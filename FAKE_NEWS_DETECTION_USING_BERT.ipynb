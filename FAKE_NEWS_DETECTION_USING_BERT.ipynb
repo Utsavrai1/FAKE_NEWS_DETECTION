{
  "nbformat": 4,
  "nbformat_minor": 0,
  "metadata": {
    "colab": {
      "provenance": [],
      "gpuType": "T4"
    },
    "kernelspec": {
      "name": "python3",
      "display_name": "Python 3"
    },
    "language_info": {
      "name": "python"
    },
    "accelerator": "GPU",
    "widgets": {
      "application/vnd.jupyter.widget-state+json": {
        "6588735842c945d6ad8417bad310bd9a": {
          "model_module": "@jupyter-widgets/controls",
          "model_name": "HBoxModel",
          "model_module_version": "1.5.0",
          "state": {
            "_dom_classes": [],
            "_model_module": "@jupyter-widgets/controls",
            "_model_module_version": "1.5.0",
            "_model_name": "HBoxModel",
            "_view_count": null,
            "_view_module": "@jupyter-widgets/controls",
            "_view_module_version": "1.5.0",
            "_view_name": "HBoxView",
            "box_style": "",
            "children": [
              "IPY_MODEL_42d5a771c8df4370bc0dd60323bc66af",
              "IPY_MODEL_b412276556014b26be3eeabc1073eab5",
              "IPY_MODEL_508ca024f2c042b3ae9df790e75ea0b5"
            ],
            "layout": "IPY_MODEL_41b017c4b475489e9b092c2a67e23b41"
          }
        },
        "42d5a771c8df4370bc0dd60323bc66af": {
          "model_module": "@jupyter-widgets/controls",
          "model_name": "HTMLModel",
          "model_module_version": "1.5.0",
          "state": {
            "_dom_classes": [],
            "_model_module": "@jupyter-widgets/controls",
            "_model_module_version": "1.5.0",
            "_model_name": "HTMLModel",
            "_view_count": null,
            "_view_module": "@jupyter-widgets/controls",
            "_view_module_version": "1.5.0",
            "_view_name": "HTMLView",
            "description": "",
            "description_tooltip": null,
            "layout": "IPY_MODEL_7087e3241d8e4be7b637ac01b7698dc1",
            "placeholder": "​",
            "style": "IPY_MODEL_30df2193f2b245ae9b4d50a51387092b",
            "value": "100%"
          }
        },
        "b412276556014b26be3eeabc1073eab5": {
          "model_module": "@jupyter-widgets/controls",
          "model_name": "FloatProgressModel",
          "model_module_version": "1.5.0",
          "state": {
            "_dom_classes": [],
            "_model_module": "@jupyter-widgets/controls",
            "_model_module_version": "1.5.0",
            "_model_name": "FloatProgressModel",
            "_view_count": null,
            "_view_module": "@jupyter-widgets/controls",
            "_view_module_version": "1.5.0",
            "_view_name": "ProgressView",
            "bar_style": "success",
            "description": "",
            "description_tooltip": null,
            "layout": "IPY_MODEL_9fe877834ba248f8b302f4a493aa2187",
            "max": 56,
            "min": 0,
            "orientation": "horizontal",
            "style": "IPY_MODEL_debda3f41ac44b278d8fdbf1d03db1a9",
            "value": 56
          }
        },
        "508ca024f2c042b3ae9df790e75ea0b5": {
          "model_module": "@jupyter-widgets/controls",
          "model_name": "HTMLModel",
          "model_module_version": "1.5.0",
          "state": {
            "_dom_classes": [],
            "_model_module": "@jupyter-widgets/controls",
            "_model_module_version": "1.5.0",
            "_model_name": "HTMLModel",
            "_view_count": null,
            "_view_module": "@jupyter-widgets/controls",
            "_view_module_version": "1.5.0",
            "_view_name": "HTMLView",
            "description": "",
            "description_tooltip": null,
            "layout": "IPY_MODEL_4c2b5dc0973a4ec3a79fed6076c4d78c",
            "placeholder": "​",
            "style": "IPY_MODEL_3781d888fbbb429587fa745b3a29c6ba",
            "value": " 56/56 [03:20&lt;00:00,  2.82s/it]"
          }
        },
        "41b017c4b475489e9b092c2a67e23b41": {
          "model_module": "@jupyter-widgets/base",
          "model_name": "LayoutModel",
          "model_module_version": "1.2.0",
          "state": {
            "_model_module": "@jupyter-widgets/base",
            "_model_module_version": "1.2.0",
            "_model_name": "LayoutModel",
            "_view_count": null,
            "_view_module": "@jupyter-widgets/base",
            "_view_module_version": "1.2.0",
            "_view_name": "LayoutView",
            "align_content": null,
            "align_items": null,
            "align_self": null,
            "border": null,
            "bottom": null,
            "display": null,
            "flex": null,
            "flex_flow": null,
            "grid_area": null,
            "grid_auto_columns": null,
            "grid_auto_flow": null,
            "grid_auto_rows": null,
            "grid_column": null,
            "grid_gap": null,
            "grid_row": null,
            "grid_template_areas": null,
            "grid_template_columns": null,
            "grid_template_rows": null,
            "height": null,
            "justify_content": null,
            "justify_items": null,
            "left": null,
            "margin": null,
            "max_height": null,
            "max_width": null,
            "min_height": null,
            "min_width": null,
            "object_fit": null,
            "object_position": null,
            "order": null,
            "overflow": null,
            "overflow_x": null,
            "overflow_y": null,
            "padding": null,
            "right": null,
            "top": null,
            "visibility": null,
            "width": null
          }
        },
        "7087e3241d8e4be7b637ac01b7698dc1": {
          "model_module": "@jupyter-widgets/base",
          "model_name": "LayoutModel",
          "model_module_version": "1.2.0",
          "state": {
            "_model_module": "@jupyter-widgets/base",
            "_model_module_version": "1.2.0",
            "_model_name": "LayoutModel",
            "_view_count": null,
            "_view_module": "@jupyter-widgets/base",
            "_view_module_version": "1.2.0",
            "_view_name": "LayoutView",
            "align_content": null,
            "align_items": null,
            "align_self": null,
            "border": null,
            "bottom": null,
            "display": null,
            "flex": null,
            "flex_flow": null,
            "grid_area": null,
            "grid_auto_columns": null,
            "grid_auto_flow": null,
            "grid_auto_rows": null,
            "grid_column": null,
            "grid_gap": null,
            "grid_row": null,
            "grid_template_areas": null,
            "grid_template_columns": null,
            "grid_template_rows": null,
            "height": null,
            "justify_content": null,
            "justify_items": null,
            "left": null,
            "margin": null,
            "max_height": null,
            "max_width": null,
            "min_height": null,
            "min_width": null,
            "object_fit": null,
            "object_position": null,
            "order": null,
            "overflow": null,
            "overflow_x": null,
            "overflow_y": null,
            "padding": null,
            "right": null,
            "top": null,
            "visibility": null,
            "width": null
          }
        },
        "30df2193f2b245ae9b4d50a51387092b": {
          "model_module": "@jupyter-widgets/controls",
          "model_name": "DescriptionStyleModel",
          "model_module_version": "1.5.0",
          "state": {
            "_model_module": "@jupyter-widgets/controls",
            "_model_module_version": "1.5.0",
            "_model_name": "DescriptionStyleModel",
            "_view_count": null,
            "_view_module": "@jupyter-widgets/base",
            "_view_module_version": "1.2.0",
            "_view_name": "StyleView",
            "description_width": ""
          }
        },
        "9fe877834ba248f8b302f4a493aa2187": {
          "model_module": "@jupyter-widgets/base",
          "model_name": "LayoutModel",
          "model_module_version": "1.2.0",
          "state": {
            "_model_module": "@jupyter-widgets/base",
            "_model_module_version": "1.2.0",
            "_model_name": "LayoutModel",
            "_view_count": null,
            "_view_module": "@jupyter-widgets/base",
            "_view_module_version": "1.2.0",
            "_view_name": "LayoutView",
            "align_content": null,
            "align_items": null,
            "align_self": null,
            "border": null,
            "bottom": null,
            "display": null,
            "flex": null,
            "flex_flow": null,
            "grid_area": null,
            "grid_auto_columns": null,
            "grid_auto_flow": null,
            "grid_auto_rows": null,
            "grid_column": null,
            "grid_gap": null,
            "grid_row": null,
            "grid_template_areas": null,
            "grid_template_columns": null,
            "grid_template_rows": null,
            "height": null,
            "justify_content": null,
            "justify_items": null,
            "left": null,
            "margin": null,
            "max_height": null,
            "max_width": null,
            "min_height": null,
            "min_width": null,
            "object_fit": null,
            "object_position": null,
            "order": null,
            "overflow": null,
            "overflow_x": null,
            "overflow_y": null,
            "padding": null,
            "right": null,
            "top": null,
            "visibility": null,
            "width": null
          }
        },
        "debda3f41ac44b278d8fdbf1d03db1a9": {
          "model_module": "@jupyter-widgets/controls",
          "model_name": "ProgressStyleModel",
          "model_module_version": "1.5.0",
          "state": {
            "_model_module": "@jupyter-widgets/controls",
            "_model_module_version": "1.5.0",
            "_model_name": "ProgressStyleModel",
            "_view_count": null,
            "_view_module": "@jupyter-widgets/base",
            "_view_module_version": "1.2.0",
            "_view_name": "StyleView",
            "bar_color": null,
            "description_width": ""
          }
        },
        "4c2b5dc0973a4ec3a79fed6076c4d78c": {
          "model_module": "@jupyter-widgets/base",
          "model_name": "LayoutModel",
          "model_module_version": "1.2.0",
          "state": {
            "_model_module": "@jupyter-widgets/base",
            "_model_module_version": "1.2.0",
            "_model_name": "LayoutModel",
            "_view_count": null,
            "_view_module": "@jupyter-widgets/base",
            "_view_module_version": "1.2.0",
            "_view_name": "LayoutView",
            "align_content": null,
            "align_items": null,
            "align_self": null,
            "border": null,
            "bottom": null,
            "display": null,
            "flex": null,
            "flex_flow": null,
            "grid_area": null,
            "grid_auto_columns": null,
            "grid_auto_flow": null,
            "grid_auto_rows": null,
            "grid_column": null,
            "grid_gap": null,
            "grid_row": null,
            "grid_template_areas": null,
            "grid_template_columns": null,
            "grid_template_rows": null,
            "height": null,
            "justify_content": null,
            "justify_items": null,
            "left": null,
            "margin": null,
            "max_height": null,
            "max_width": null,
            "min_height": null,
            "min_width": null,
            "object_fit": null,
            "object_position": null,
            "order": null,
            "overflow": null,
            "overflow_x": null,
            "overflow_y": null,
            "padding": null,
            "right": null,
            "top": null,
            "visibility": null,
            "width": null
          }
        },
        "3781d888fbbb429587fa745b3a29c6ba": {
          "model_module": "@jupyter-widgets/controls",
          "model_name": "DescriptionStyleModel",
          "model_module_version": "1.5.0",
          "state": {
            "_model_module": "@jupyter-widgets/controls",
            "_model_module_version": "1.5.0",
            "_model_name": "DescriptionStyleModel",
            "_view_count": null,
            "_view_module": "@jupyter-widgets/base",
            "_view_module_version": "1.2.0",
            "_view_name": "StyleView",
            "description_width": ""
          }
        },
        "3bfbb953c2844ca390407fe22825fd65": {
          "model_module": "@jupyter-widgets/controls",
          "model_name": "HBoxModel",
          "model_module_version": "1.5.0",
          "state": {
            "_dom_classes": [],
            "_model_module": "@jupyter-widgets/controls",
            "_model_module_version": "1.5.0",
            "_model_name": "HBoxModel",
            "_view_count": null,
            "_view_module": "@jupyter-widgets/controls",
            "_view_module_version": "1.5.0",
            "_view_name": "HBoxView",
            "box_style": "",
            "children": [
              "IPY_MODEL_02bd32de5c5d4cc6920fcd5aa17887ea",
              "IPY_MODEL_308d10f6b2594404aafab7ee1fba5ad2",
              "IPY_MODEL_fbdbfe820f454a03ba3cb78b71497b69"
            ],
            "layout": "IPY_MODEL_fa3f00e2368145af9c336c99c0162b2d"
          }
        },
        "02bd32de5c5d4cc6920fcd5aa17887ea": {
          "model_module": "@jupyter-widgets/controls",
          "model_name": "HTMLModel",
          "model_module_version": "1.5.0",
          "state": {
            "_dom_classes": [],
            "_model_module": "@jupyter-widgets/controls",
            "_model_module_version": "1.5.0",
            "_model_name": "HTMLModel",
            "_view_count": null,
            "_view_module": "@jupyter-widgets/controls",
            "_view_module_version": "1.5.0",
            "_view_name": "HTMLView",
            "description": "",
            "description_tooltip": null,
            "layout": "IPY_MODEL_50b2674e61fe48afa11f112c9e3cffd6",
            "placeholder": "​",
            "style": "IPY_MODEL_c4c8956db2e746a2832812e44864bea6",
            "value": "100%"
          }
        },
        "308d10f6b2594404aafab7ee1fba5ad2": {
          "model_module": "@jupyter-widgets/controls",
          "model_name": "FloatProgressModel",
          "model_module_version": "1.5.0",
          "state": {
            "_dom_classes": [],
            "_model_module": "@jupyter-widgets/controls",
            "_model_module_version": "1.5.0",
            "_model_name": "FloatProgressModel",
            "_view_count": null,
            "_view_module": "@jupyter-widgets/controls",
            "_view_module_version": "1.5.0",
            "_view_name": "ProgressView",
            "bar_style": "success",
            "description": "",
            "description_tooltip": null,
            "layout": "IPY_MODEL_065791a6de5e40cd93db2c2ee74ea9a8",
            "max": 14,
            "min": 0,
            "orientation": "horizontal",
            "style": "IPY_MODEL_e35d20fe26e645009c39bd529f8b6079",
            "value": 14
          }
        },
        "fbdbfe820f454a03ba3cb78b71497b69": {
          "model_module": "@jupyter-widgets/controls",
          "model_name": "HTMLModel",
          "model_module_version": "1.5.0",
          "state": {
            "_dom_classes": [],
            "_model_module": "@jupyter-widgets/controls",
            "_model_module_version": "1.5.0",
            "_model_name": "HTMLModel",
            "_view_count": null,
            "_view_module": "@jupyter-widgets/controls",
            "_view_module_version": "1.5.0",
            "_view_name": "HTMLView",
            "description": "",
            "description_tooltip": null,
            "layout": "IPY_MODEL_41f7f7597d44437fb170998a33058d0a",
            "placeholder": "​",
            "style": "IPY_MODEL_b024a9ae9a944350b1cf72380129592c",
            "value": " 14/14 [00:38&lt;00:00,  2.55s/it]"
          }
        },
        "fa3f00e2368145af9c336c99c0162b2d": {
          "model_module": "@jupyter-widgets/base",
          "model_name": "LayoutModel",
          "model_module_version": "1.2.0",
          "state": {
            "_model_module": "@jupyter-widgets/base",
            "_model_module_version": "1.2.0",
            "_model_name": "LayoutModel",
            "_view_count": null,
            "_view_module": "@jupyter-widgets/base",
            "_view_module_version": "1.2.0",
            "_view_name": "LayoutView",
            "align_content": null,
            "align_items": null,
            "align_self": null,
            "border": null,
            "bottom": null,
            "display": null,
            "flex": null,
            "flex_flow": null,
            "grid_area": null,
            "grid_auto_columns": null,
            "grid_auto_flow": null,
            "grid_auto_rows": null,
            "grid_column": null,
            "grid_gap": null,
            "grid_row": null,
            "grid_template_areas": null,
            "grid_template_columns": null,
            "grid_template_rows": null,
            "height": null,
            "justify_content": null,
            "justify_items": null,
            "left": null,
            "margin": null,
            "max_height": null,
            "max_width": null,
            "min_height": null,
            "min_width": null,
            "object_fit": null,
            "object_position": null,
            "order": null,
            "overflow": null,
            "overflow_x": null,
            "overflow_y": null,
            "padding": null,
            "right": null,
            "top": null,
            "visibility": null,
            "width": null
          }
        },
        "50b2674e61fe48afa11f112c9e3cffd6": {
          "model_module": "@jupyter-widgets/base",
          "model_name": "LayoutModel",
          "model_module_version": "1.2.0",
          "state": {
            "_model_module": "@jupyter-widgets/base",
            "_model_module_version": "1.2.0",
            "_model_name": "LayoutModel",
            "_view_count": null,
            "_view_module": "@jupyter-widgets/base",
            "_view_module_version": "1.2.0",
            "_view_name": "LayoutView",
            "align_content": null,
            "align_items": null,
            "align_self": null,
            "border": null,
            "bottom": null,
            "display": null,
            "flex": null,
            "flex_flow": null,
            "grid_area": null,
            "grid_auto_columns": null,
            "grid_auto_flow": null,
            "grid_auto_rows": null,
            "grid_column": null,
            "grid_gap": null,
            "grid_row": null,
            "grid_template_areas": null,
            "grid_template_columns": null,
            "grid_template_rows": null,
            "height": null,
            "justify_content": null,
            "justify_items": null,
            "left": null,
            "margin": null,
            "max_height": null,
            "max_width": null,
            "min_height": null,
            "min_width": null,
            "object_fit": null,
            "object_position": null,
            "order": null,
            "overflow": null,
            "overflow_x": null,
            "overflow_y": null,
            "padding": null,
            "right": null,
            "top": null,
            "visibility": null,
            "width": null
          }
        },
        "c4c8956db2e746a2832812e44864bea6": {
          "model_module": "@jupyter-widgets/controls",
          "model_name": "DescriptionStyleModel",
          "model_module_version": "1.5.0",
          "state": {
            "_model_module": "@jupyter-widgets/controls",
            "_model_module_version": "1.5.0",
            "_model_name": "DescriptionStyleModel",
            "_view_count": null,
            "_view_module": "@jupyter-widgets/base",
            "_view_module_version": "1.2.0",
            "_view_name": "StyleView",
            "description_width": ""
          }
        },
        "065791a6de5e40cd93db2c2ee74ea9a8": {
          "model_module": "@jupyter-widgets/base",
          "model_name": "LayoutModel",
          "model_module_version": "1.2.0",
          "state": {
            "_model_module": "@jupyter-widgets/base",
            "_model_module_version": "1.2.0",
            "_model_name": "LayoutModel",
            "_view_count": null,
            "_view_module": "@jupyter-widgets/base",
            "_view_module_version": "1.2.0",
            "_view_name": "LayoutView",
            "align_content": null,
            "align_items": null,
            "align_self": null,
            "border": null,
            "bottom": null,
            "display": null,
            "flex": null,
            "flex_flow": null,
            "grid_area": null,
            "grid_auto_columns": null,
            "grid_auto_flow": null,
            "grid_auto_rows": null,
            "grid_column": null,
            "grid_gap": null,
            "grid_row": null,
            "grid_template_areas": null,
            "grid_template_columns": null,
            "grid_template_rows": null,
            "height": null,
            "justify_content": null,
            "justify_items": null,
            "left": null,
            "margin": null,
            "max_height": null,
            "max_width": null,
            "min_height": null,
            "min_width": null,
            "object_fit": null,
            "object_position": null,
            "order": null,
            "overflow": null,
            "overflow_x": null,
            "overflow_y": null,
            "padding": null,
            "right": null,
            "top": null,
            "visibility": null,
            "width": null
          }
        },
        "e35d20fe26e645009c39bd529f8b6079": {
          "model_module": "@jupyter-widgets/controls",
          "model_name": "ProgressStyleModel",
          "model_module_version": "1.5.0",
          "state": {
            "_model_module": "@jupyter-widgets/controls",
            "_model_module_version": "1.5.0",
            "_model_name": "ProgressStyleModel",
            "_view_count": null,
            "_view_module": "@jupyter-widgets/base",
            "_view_module_version": "1.2.0",
            "_view_name": "StyleView",
            "bar_color": null,
            "description_width": ""
          }
        },
        "41f7f7597d44437fb170998a33058d0a": {
          "model_module": "@jupyter-widgets/base",
          "model_name": "LayoutModel",
          "model_module_version": "1.2.0",
          "state": {
            "_model_module": "@jupyter-widgets/base",
            "_model_module_version": "1.2.0",
            "_model_name": "LayoutModel",
            "_view_count": null,
            "_view_module": "@jupyter-widgets/base",
            "_view_module_version": "1.2.0",
            "_view_name": "LayoutView",
            "align_content": null,
            "align_items": null,
            "align_self": null,
            "border": null,
            "bottom": null,
            "display": null,
            "flex": null,
            "flex_flow": null,
            "grid_area": null,
            "grid_auto_columns": null,
            "grid_auto_flow": null,
            "grid_auto_rows": null,
            "grid_column": null,
            "grid_gap": null,
            "grid_row": null,
            "grid_template_areas": null,
            "grid_template_columns": null,
            "grid_template_rows": null,
            "height": null,
            "justify_content": null,
            "justify_items": null,
            "left": null,
            "margin": null,
            "max_height": null,
            "max_width": null,
            "min_height": null,
            "min_width": null,
            "object_fit": null,
            "object_position": null,
            "order": null,
            "overflow": null,
            "overflow_x": null,
            "overflow_y": null,
            "padding": null,
            "right": null,
            "top": null,
            "visibility": null,
            "width": null
          }
        },
        "b024a9ae9a944350b1cf72380129592c": {
          "model_module": "@jupyter-widgets/controls",
          "model_name": "DescriptionStyleModel",
          "model_module_version": "1.5.0",
          "state": {
            "_model_module": "@jupyter-widgets/controls",
            "_model_module_version": "1.5.0",
            "_model_name": "DescriptionStyleModel",
            "_view_count": null,
            "_view_module": "@jupyter-widgets/base",
            "_view_module_version": "1.2.0",
            "_view_name": "StyleView",
            "description_width": ""
          }
        }
      }
    }
  },
  "cells": [
    {
      "cell_type": "code",
      "execution_count": null,
      "metadata": {
        "colab": {
          "base_uri": "https://localhost:8080/"
        },
        "id": "7foIz0rI_DeC",
        "outputId": "00f0365f-903d-4360-b36f-bcac56420f85"
      },
      "outputs": [
        {
          "output_type": "stream",
          "name": "stdout",
          "text": [
            "\u001b[2K   \u001b[90m━━━━━━━━━━━━━━━━━━━━━━━━━━━━━━━━━━━━━━━━\u001b[0m \u001b[32m27.3/27.3 MB\u001b[0m \u001b[31m24.0 MB/s\u001b[0m eta \u001b[36m0:00:00\u001b[0m\n",
            "\u001b[2K   \u001b[90m━━━━━━━━━━━━━━━━━━━━━━━━━━━━━━━━━━━━━━━━\u001b[0m \u001b[32m5.8/5.8 MB\u001b[0m \u001b[31m42.9 MB/s\u001b[0m eta \u001b[36m0:00:00\u001b[0m\n",
            "\u001b[2K   \u001b[90m━━━━━━━━━━━━━━━━━━━━━━━━━━━━━━━━━━━━━━━━\u001b[0m \u001b[32m1.7/1.7 MB\u001b[0m \u001b[31m40.9 MB/s\u001b[0m eta \u001b[36m0:00:00\u001b[0m\n",
            "\u001b[2K   \u001b[90m━━━━━━━━━━━━━━━━━━━━━━━━━━━━━━━━━━━━━━━━\u001b[0m \u001b[32m233.5/233.5 kB\u001b[0m \u001b[31m14.7 MB/s\u001b[0m eta \u001b[36m0:00:00\u001b[0m\n",
            "\u001b[2K   \u001b[90m━━━━━━━━━━━━━━━━━━━━━━━━━━━━━━━━━━━━━━━━\u001b[0m \u001b[32m147.8/147.8 kB\u001b[0m \u001b[31m9.9 MB/s\u001b[0m eta \u001b[36m0:00:00\u001b[0m\n",
            "\u001b[2K   \u001b[90m━━━━━━━━━━━━━━━━━━━━━━━━━━━━━━━━━━━━━━━━\u001b[0m \u001b[32m114.9/114.9 kB\u001b[0m \u001b[31m6.2 MB/s\u001b[0m eta \u001b[36m0:00:00\u001b[0m\n",
            "\u001b[2K   \u001b[90m━━━━━━━━━━━━━━━━━━━━━━━━━━━━━━━━━━━━━━━━\u001b[0m \u001b[32m85.0/85.0 kB\u001b[0m \u001b[31m4.7 MB/s\u001b[0m eta \u001b[36m0:00:00\u001b[0m\n",
            "\u001b[2K   \u001b[90m━━━━━━━━━━━━━━━━━━━━━━━━━━━━━━━━━━━━━━━━\u001b[0m \u001b[32m119.4/119.4 kB\u001b[0m \u001b[31m7.2 MB/s\u001b[0m eta \u001b[36m0:00:00\u001b[0m\n",
            "\u001b[2K   \u001b[90m━━━━━━━━━━━━━━━━━━━━━━━━━━━━━━━━━━━━━━━━\u001b[0m \u001b[32m194.1/194.1 kB\u001b[0m \u001b[31m12.4 MB/s\u001b[0m eta \u001b[36m0:00:00\u001b[0m\n",
            "\u001b[2K   \u001b[90m━━━━━━━━━━━━━━━━━━━━━━━━━━━━━━━━━━━━━━━━\u001b[0m \u001b[32m575.1/575.1 kB\u001b[0m \u001b[31m28.9 MB/s\u001b[0m eta \u001b[36m0:00:00\u001b[0m\n",
            "\u001b[2K   \u001b[90m━━━━━━━━━━━━━━━━━━━━━━━━━━━━━━━━━━━━━━━━\u001b[0m \u001b[32m203.2/203.2 kB\u001b[0m \u001b[31m12.1 MB/s\u001b[0m eta \u001b[36m0:00:00\u001b[0m\n",
            "\u001b[2K   \u001b[90m━━━━━━━━━━━━━━━━━━━━━━━━━━━━━━━━━━━━━━━━\u001b[0m \u001b[32m78.6/78.6 kB\u001b[0m \u001b[31m4.4 MB/s\u001b[0m eta \u001b[36m0:00:00\u001b[0m\n",
            "\u001b[?25h"
          ]
        }
      ],
      "source": [
        "!pip install -q mlflow nlp 2>/dev/null"
      ]
    },
    {
      "cell_type": "code",
      "source": [
        "!pip install datasets==2.21.0"
      ],
      "metadata": {
        "colab": {
          "base_uri": "https://localhost:8080/"
        },
        "id": "ldvTe-4t_QIp",
        "outputId": "2755d52f-4e3e-4568-dd18-ec2730e4e56f"
      },
      "execution_count": null,
      "outputs": [
        {
          "output_type": "stream",
          "name": "stdout",
          "text": [
            "Collecting datasets==2.21.0\n",
            "  Downloading datasets-2.21.0-py3-none-any.whl.metadata (21 kB)\n",
            "Requirement already satisfied: filelock in /usr/local/lib/python3.10/dist-packages (from datasets==2.21.0) (3.16.1)\n",
            "Requirement already satisfied: numpy>=1.17 in /usr/local/lib/python3.10/dist-packages (from datasets==2.21.0) (1.26.4)\n",
            "Requirement already satisfied: pyarrow>=15.0.0 in /usr/local/lib/python3.10/dist-packages (from datasets==2.21.0) (17.0.0)\n",
            "Collecting dill<0.3.9,>=0.3.0 (from datasets==2.21.0)\n",
            "  Downloading dill-0.3.8-py3-none-any.whl.metadata (10 kB)\n",
            "Requirement already satisfied: pandas in /usr/local/lib/python3.10/dist-packages (from datasets==2.21.0) (2.2.2)\n",
            "Requirement already satisfied: requests>=2.32.2 in /usr/local/lib/python3.10/dist-packages (from datasets==2.21.0) (2.32.3)\n",
            "Requirement already satisfied: tqdm>=4.66.3 in /usr/local/lib/python3.10/dist-packages (from datasets==2.21.0) (4.66.6)\n",
            "Requirement already satisfied: xxhash in /usr/local/lib/python3.10/dist-packages (from datasets==2.21.0) (3.5.0)\n",
            "Collecting multiprocess (from datasets==2.21.0)\n",
            "  Downloading multiprocess-0.70.17-py310-none-any.whl.metadata (7.2 kB)\n",
            "Collecting fsspec<=2024.6.1,>=2023.1.0 (from fsspec[http]<=2024.6.1,>=2023.1.0->datasets==2.21.0)\n",
            "  Downloading fsspec-2024.6.1-py3-none-any.whl.metadata (11 kB)\n",
            "Requirement already satisfied: aiohttp in /usr/local/lib/python3.10/dist-packages (from datasets==2.21.0) (3.11.2)\n",
            "Requirement already satisfied: huggingface-hub>=0.21.2 in /usr/local/lib/python3.10/dist-packages (from datasets==2.21.0) (0.26.2)\n",
            "Requirement already satisfied: packaging in /usr/local/lib/python3.10/dist-packages (from datasets==2.21.0) (24.2)\n",
            "Requirement already satisfied: pyyaml>=5.1 in /usr/local/lib/python3.10/dist-packages (from datasets==2.21.0) (6.0.2)\n",
            "Requirement already satisfied: aiohappyeyeballs>=2.3.0 in /usr/local/lib/python3.10/dist-packages (from aiohttp->datasets==2.21.0) (2.4.3)\n",
            "Requirement already satisfied: aiosignal>=1.1.2 in /usr/local/lib/python3.10/dist-packages (from aiohttp->datasets==2.21.0) (1.3.1)\n",
            "Requirement already satisfied: attrs>=17.3.0 in /usr/local/lib/python3.10/dist-packages (from aiohttp->datasets==2.21.0) (24.2.0)\n",
            "Requirement already satisfied: frozenlist>=1.1.1 in /usr/local/lib/python3.10/dist-packages (from aiohttp->datasets==2.21.0) (1.5.0)\n",
            "Requirement already satisfied: multidict<7.0,>=4.5 in /usr/local/lib/python3.10/dist-packages (from aiohttp->datasets==2.21.0) (6.1.0)\n",
            "Requirement already satisfied: propcache>=0.2.0 in /usr/local/lib/python3.10/dist-packages (from aiohttp->datasets==2.21.0) (0.2.0)\n",
            "Requirement already satisfied: yarl<2.0,>=1.17.0 in /usr/local/lib/python3.10/dist-packages (from aiohttp->datasets==2.21.0) (1.17.2)\n",
            "Requirement already satisfied: async-timeout<6.0,>=4.0 in /usr/local/lib/python3.10/dist-packages (from aiohttp->datasets==2.21.0) (4.0.3)\n",
            "Requirement already satisfied: typing-extensions>=3.7.4.3 in /usr/local/lib/python3.10/dist-packages (from huggingface-hub>=0.21.2->datasets==2.21.0) (4.12.2)\n",
            "Requirement already satisfied: charset-normalizer<4,>=2 in /usr/local/lib/python3.10/dist-packages (from requests>=2.32.2->datasets==2.21.0) (3.4.0)\n",
            "Requirement already satisfied: idna<4,>=2.5 in /usr/local/lib/python3.10/dist-packages (from requests>=2.32.2->datasets==2.21.0) (3.10)\n",
            "Requirement already satisfied: urllib3<3,>=1.21.1 in /usr/local/lib/python3.10/dist-packages (from requests>=2.32.2->datasets==2.21.0) (2.2.3)\n",
            "Requirement already satisfied: certifi>=2017.4.17 in /usr/local/lib/python3.10/dist-packages (from requests>=2.32.2->datasets==2.21.0) (2024.8.30)\n",
            "INFO: pip is looking at multiple versions of multiprocess to determine which version is compatible with other requirements. This could take a while.\n",
            "Collecting multiprocess (from datasets==2.21.0)\n",
            "  Downloading multiprocess-0.70.16-py310-none-any.whl.metadata (7.2 kB)\n",
            "Requirement already satisfied: python-dateutil>=2.8.2 in /usr/local/lib/python3.10/dist-packages (from pandas->datasets==2.21.0) (2.8.2)\n",
            "Requirement already satisfied: pytz>=2020.1 in /usr/local/lib/python3.10/dist-packages (from pandas->datasets==2.21.0) (2024.2)\n",
            "Requirement already satisfied: tzdata>=2022.7 in /usr/local/lib/python3.10/dist-packages (from pandas->datasets==2.21.0) (2024.2)\n",
            "Requirement already satisfied: six>=1.5 in /usr/local/lib/python3.10/dist-packages (from python-dateutil>=2.8.2->pandas->datasets==2.21.0) (1.16.0)\n",
            "Downloading datasets-2.21.0-py3-none-any.whl (527 kB)\n",
            "\u001b[2K   \u001b[90m━━━━━━━━━━━━━━━━━━━━━━━━━━━━━━━━━━━━━━━━\u001b[0m \u001b[32m527.3/527.3 kB\u001b[0m \u001b[31m15.7 MB/s\u001b[0m eta \u001b[36m0:00:00\u001b[0m\n",
            "\u001b[?25hDownloading dill-0.3.8-py3-none-any.whl (116 kB)\n",
            "\u001b[2K   \u001b[90m━━━━━━━━━━━━━━━━━━━━━━━━━━━━━━━━━━━━━━━━\u001b[0m \u001b[32m116.3/116.3 kB\u001b[0m \u001b[31m10.9 MB/s\u001b[0m eta \u001b[36m0:00:00\u001b[0m\n",
            "\u001b[?25hDownloading fsspec-2024.6.1-py3-none-any.whl (177 kB)\n",
            "\u001b[2K   \u001b[90m━━━━━━━━━━━━━━━━━━━━━━━━━━━━━━━━━━━━━━━━\u001b[0m \u001b[32m177.6/177.6 kB\u001b[0m \u001b[31m17.1 MB/s\u001b[0m eta \u001b[36m0:00:00\u001b[0m\n",
            "\u001b[?25hDownloading multiprocess-0.70.16-py310-none-any.whl (134 kB)\n",
            "\u001b[2K   \u001b[90m━━━━━━━━━━━━━━━━━━━━━━━━━━━━━━━━━━━━━━━━\u001b[0m \u001b[32m134.8/134.8 kB\u001b[0m \u001b[31m12.1 MB/s\u001b[0m eta \u001b[36m0:00:00\u001b[0m\n",
            "\u001b[?25hInstalling collected packages: fsspec, dill, multiprocess, datasets\n",
            "  Attempting uninstall: fsspec\n",
            "    Found existing installation: fsspec 2024.10.0\n",
            "    Uninstalling fsspec-2024.10.0:\n",
            "      Successfully uninstalled fsspec-2024.10.0\n",
            "  Attempting uninstall: dill\n",
            "    Found existing installation: dill 0.3.9\n",
            "    Uninstalling dill-0.3.9:\n",
            "      Successfully uninstalled dill-0.3.9\n",
            "\u001b[31mERROR: pip's dependency resolver does not currently take into account all the packages that are installed. This behaviour is the source of the following dependency conflicts.\n",
            "gcsfs 2024.10.0 requires fsspec==2024.10.0, but you have fsspec 2024.6.1 which is incompatible.\u001b[0m\u001b[31m\n",
            "\u001b[0mSuccessfully installed datasets-2.21.0 dill-0.3.8 fsspec-2024.6.1 multiprocess-0.70.16\n"
          ]
        }
      ]
    },
    {
      "cell_type": "code",
      "source": [
        "import pandas as pd\n",
        "import gc\n",
        "import re\n",
        "import numpy as np\n",
        "\n",
        "import warnings\n",
        "warnings.filterwarnings(\"ignore\")\n",
        "\n",
        "import torch\n",
        "from transformers import AutoModel, AutoTokenizer\n",
        "from transformers import TextDataset, LineByLineTextDataset, DataCollatorForLanguageModeling, \\\n",
        "pipeline, Trainer, TrainingArguments, DataCollatorWithPadding\n",
        "from transformers import AutoModelForSequenceClassification\n",
        "from nlp import Dataset\n",
        "from imblearn.over_sampling import RandomOverSampler\n",
        "import datasets\n",
        "from transformers import pipeline\n",
        "from bs4 import BeautifulSoup\n",
        "\n",
        "from tqdm import tqdm\n",
        "tqdm.pandas()"
      ],
      "metadata": {
        "id": "VlumU1EG_R97"
      },
      "execution_count": null,
      "outputs": []
    },
    {
      "cell_type": "code",
      "source": [
        "# set parameters\n",
        "train_fraction = 0.8 # fraction of a dataset used for training (the rest used for validation)\n",
        "num_train_epochs = 2 # epochs to train\n",
        "train_batch_size = 16 # batch size for training\n",
        "eval_batch_size = 64 # batch size for validation\n",
        "warmup_steps = 50\n",
        "weight_decay = 0.02\n",
        "BERT_MODEL = \"bert-base-cased\" # \"distilbert-base-cased\" # used distilbert cased version before\n",
        "output_dir = \"fake-news-classifier\""
      ],
      "metadata": {
        "id": "K2OEvAJ2_UNI"
      },
      "execution_count": null,
      "outputs": []
    },
    {
      "cell_type": "code",
      "source": [
        "# Mount Google Drive - applicable, if working on Google Drive\n",
        "from google.colab import drive\n",
        "drive.mount('/content/drive')"
      ],
      "metadata": {
        "colab": {
          "base_uri": "https://localhost:8080/"
        },
        "id": "S0BElpF9_X92",
        "outputId": "2da632a1-4717-43bc-d170-15cb17948afc"
      },
      "execution_count": null,
      "outputs": [
        {
          "output_type": "stream",
          "name": "stdout",
          "text": [
            "Mounted at /content/drive\n"
          ]
        }
      ]
    },
    {
      "cell_type": "code",
      "source": [
        "df = pd.read_csv('/content/drive/My Drive/WELFake_Dataset.csv').drop(['Unnamed: 0'], axis=1)\n",
        "item0 = df.shape[0]\n",
        "df = df.drop_duplicates()\n",
        "item1 = df.shape[0]\n",
        "print(f\"There are {item0-item1} duplicates found in the dataset\")\n",
        "df['title'] = df['title'] + '\\n\\n\\n' + df['text']\n",
        "df = df[['title', 'label']]\n",
        "df = df[~df['title'].isnull()]\n",
        "print(df.shape)\n",
        "df.sample(5).T\n"
      ],
      "metadata": {
        "colab": {
          "base_uri": "https://localhost:8080/",
          "height": 164
        },
        "id": "e8QPNZ7D_auZ",
        "outputId": "c7ece388-cc22-4068-eabc-b39da30f9618"
      },
      "execution_count": null,
      "outputs": [
        {
          "output_type": "stream",
          "name": "stdout",
          "text": [
            "There are 8456 duplicates found in the dataset\n",
            "(63121, 2)\n"
          ]
        },
        {
          "output_type": "execute_result",
          "data": {
            "text/plain": [
              "                                                   71361  \\\n",
              "title   Donald Trump Responds To Mockery Over Fake Sw...   \n",
              "label                                                  1   \n",
              "\n",
              "                                                   11496  \\\n",
              "title  Tweetwave\\n\\n\\nThis time it's true no pantsTwe...   \n",
              "label                                                  1   \n",
              "\n",
              "                                                   20292  \\\n",
              "title  Rubio says prospect of Trump president is 'wor...   \n",
              "label                                                  0   \n",
              "\n",
              "                                                   38855  \\\n",
              "title  Trump lifts Cyber Command status to boost cybe...   \n",
              "label                                                  0   \n",
              "\n",
              "                                                   20416  \n",
              "title   The 7 Biggest Republican Lies About The Econo...  \n",
              "label                                                  1  "
            ],
            "text/html": [
              "\n",
              "  <div id=\"df-eb8d64ac-5568-4aa1-a77b-c7ea1f8435de\" class=\"colab-df-container\">\n",
              "    <div>\n",
              "<style scoped>\n",
              "    .dataframe tbody tr th:only-of-type {\n",
              "        vertical-align: middle;\n",
              "    }\n",
              "\n",
              "    .dataframe tbody tr th {\n",
              "        vertical-align: top;\n",
              "    }\n",
              "\n",
              "    .dataframe thead th {\n",
              "        text-align: right;\n",
              "    }\n",
              "</style>\n",
              "<table border=\"1\" class=\"dataframe\">\n",
              "  <thead>\n",
              "    <tr style=\"text-align: right;\">\n",
              "      <th></th>\n",
              "      <th>71361</th>\n",
              "      <th>11496</th>\n",
              "      <th>20292</th>\n",
              "      <th>38855</th>\n",
              "      <th>20416</th>\n",
              "    </tr>\n",
              "  </thead>\n",
              "  <tbody>\n",
              "    <tr>\n",
              "      <th>title</th>\n",
              "      <td>Donald Trump Responds To Mockery Over Fake Sw...</td>\n",
              "      <td>Tweetwave\\n\\n\\nThis time it's true no pantsTwe...</td>\n",
              "      <td>Rubio says prospect of Trump president is 'wor...</td>\n",
              "      <td>Trump lifts Cyber Command status to boost cybe...</td>\n",
              "      <td>The 7 Biggest Republican Lies About The Econo...</td>\n",
              "    </tr>\n",
              "    <tr>\n",
              "      <th>label</th>\n",
              "      <td>1</td>\n",
              "      <td>1</td>\n",
              "      <td>0</td>\n",
              "      <td>0</td>\n",
              "      <td>1</td>\n",
              "    </tr>\n",
              "  </tbody>\n",
              "</table>\n",
              "</div>\n",
              "    <div class=\"colab-df-buttons\">\n",
              "\n",
              "  <div class=\"colab-df-container\">\n",
              "    <button class=\"colab-df-convert\" onclick=\"convertToInteractive('df-eb8d64ac-5568-4aa1-a77b-c7ea1f8435de')\"\n",
              "            title=\"Convert this dataframe to an interactive table.\"\n",
              "            style=\"display:none;\">\n",
              "\n",
              "  <svg xmlns=\"http://www.w3.org/2000/svg\" height=\"24px\" viewBox=\"0 -960 960 960\">\n",
              "    <path d=\"M120-120v-720h720v720H120Zm60-500h600v-160H180v160Zm220 220h160v-160H400v160Zm0 220h160v-160H400v160ZM180-400h160v-160H180v160Zm440 0h160v-160H620v160ZM180-180h160v-160H180v160Zm440 0h160v-160H620v160Z\"/>\n",
              "  </svg>\n",
              "    </button>\n",
              "\n",
              "  <style>\n",
              "    .colab-df-container {\n",
              "      display:flex;\n",
              "      gap: 12px;\n",
              "    }\n",
              "\n",
              "    .colab-df-convert {\n",
              "      background-color: #E8F0FE;\n",
              "      border: none;\n",
              "      border-radius: 50%;\n",
              "      cursor: pointer;\n",
              "      display: none;\n",
              "      fill: #1967D2;\n",
              "      height: 32px;\n",
              "      padding: 0 0 0 0;\n",
              "      width: 32px;\n",
              "    }\n",
              "\n",
              "    .colab-df-convert:hover {\n",
              "      background-color: #E2EBFA;\n",
              "      box-shadow: 0px 1px 2px rgba(60, 64, 67, 0.3), 0px 1px 3px 1px rgba(60, 64, 67, 0.15);\n",
              "      fill: #174EA6;\n",
              "    }\n",
              "\n",
              "    .colab-df-buttons div {\n",
              "      margin-bottom: 4px;\n",
              "    }\n",
              "\n",
              "    [theme=dark] .colab-df-convert {\n",
              "      background-color: #3B4455;\n",
              "      fill: #D2E3FC;\n",
              "    }\n",
              "\n",
              "    [theme=dark] .colab-df-convert:hover {\n",
              "      background-color: #434B5C;\n",
              "      box-shadow: 0px 1px 3px 1px rgba(0, 0, 0, 0.15);\n",
              "      filter: drop-shadow(0px 1px 2px rgba(0, 0, 0, 0.3));\n",
              "      fill: #FFFFFF;\n",
              "    }\n",
              "  </style>\n",
              "\n",
              "    <script>\n",
              "      const buttonEl =\n",
              "        document.querySelector('#df-eb8d64ac-5568-4aa1-a77b-c7ea1f8435de button.colab-df-convert');\n",
              "      buttonEl.style.display =\n",
              "        google.colab.kernel.accessAllowed ? 'block' : 'none';\n",
              "\n",
              "      async function convertToInteractive(key) {\n",
              "        const element = document.querySelector('#df-eb8d64ac-5568-4aa1-a77b-c7ea1f8435de');\n",
              "        const dataTable =\n",
              "          await google.colab.kernel.invokeFunction('convertToInteractive',\n",
              "                                                    [key], {});\n",
              "        if (!dataTable) return;\n",
              "\n",
              "        const docLinkHtml = 'Like what you see? Visit the ' +\n",
              "          '<a target=\"_blank\" href=https://colab.research.google.com/notebooks/data_table.ipynb>data table notebook</a>'\n",
              "          + ' to learn more about interactive tables.';\n",
              "        element.innerHTML = '';\n",
              "        dataTable['output_type'] = 'display_data';\n",
              "        await google.colab.output.renderOutput(dataTable, element);\n",
              "        const docLink = document.createElement('div');\n",
              "        docLink.innerHTML = docLinkHtml;\n",
              "        element.appendChild(docLink);\n",
              "      }\n",
              "    </script>\n",
              "  </div>\n",
              "\n",
              "\n",
              "<div id=\"df-560b870c-3433-4d3b-83e7-7075ae21d80f\">\n",
              "  <button class=\"colab-df-quickchart\" onclick=\"quickchart('df-560b870c-3433-4d3b-83e7-7075ae21d80f')\"\n",
              "            title=\"Suggest charts\"\n",
              "            style=\"display:none;\">\n",
              "\n",
              "<svg xmlns=\"http://www.w3.org/2000/svg\" height=\"24px\"viewBox=\"0 0 24 24\"\n",
              "     width=\"24px\">\n",
              "    <g>\n",
              "        <path d=\"M19 3H5c-1.1 0-2 .9-2 2v14c0 1.1.9 2 2 2h14c1.1 0 2-.9 2-2V5c0-1.1-.9-2-2-2zM9 17H7v-7h2v7zm4 0h-2V7h2v10zm4 0h-2v-4h2v4z\"/>\n",
              "    </g>\n",
              "</svg>\n",
              "  </button>\n",
              "\n",
              "<style>\n",
              "  .colab-df-quickchart {\n",
              "      --bg-color: #E8F0FE;\n",
              "      --fill-color: #1967D2;\n",
              "      --hover-bg-color: #E2EBFA;\n",
              "      --hover-fill-color: #174EA6;\n",
              "      --disabled-fill-color: #AAA;\n",
              "      --disabled-bg-color: #DDD;\n",
              "  }\n",
              "\n",
              "  [theme=dark] .colab-df-quickchart {\n",
              "      --bg-color: #3B4455;\n",
              "      --fill-color: #D2E3FC;\n",
              "      --hover-bg-color: #434B5C;\n",
              "      --hover-fill-color: #FFFFFF;\n",
              "      --disabled-bg-color: #3B4455;\n",
              "      --disabled-fill-color: #666;\n",
              "  }\n",
              "\n",
              "  .colab-df-quickchart {\n",
              "    background-color: var(--bg-color);\n",
              "    border: none;\n",
              "    border-radius: 50%;\n",
              "    cursor: pointer;\n",
              "    display: none;\n",
              "    fill: var(--fill-color);\n",
              "    height: 32px;\n",
              "    padding: 0;\n",
              "    width: 32px;\n",
              "  }\n",
              "\n",
              "  .colab-df-quickchart:hover {\n",
              "    background-color: var(--hover-bg-color);\n",
              "    box-shadow: 0 1px 2px rgba(60, 64, 67, 0.3), 0 1px 3px 1px rgba(60, 64, 67, 0.15);\n",
              "    fill: var(--button-hover-fill-color);\n",
              "  }\n",
              "\n",
              "  .colab-df-quickchart-complete:disabled,\n",
              "  .colab-df-quickchart-complete:disabled:hover {\n",
              "    background-color: var(--disabled-bg-color);\n",
              "    fill: var(--disabled-fill-color);\n",
              "    box-shadow: none;\n",
              "  }\n",
              "\n",
              "  .colab-df-spinner {\n",
              "    border: 2px solid var(--fill-color);\n",
              "    border-color: transparent;\n",
              "    border-bottom-color: var(--fill-color);\n",
              "    animation:\n",
              "      spin 1s steps(1) infinite;\n",
              "  }\n",
              "\n",
              "  @keyframes spin {\n",
              "    0% {\n",
              "      border-color: transparent;\n",
              "      border-bottom-color: var(--fill-color);\n",
              "      border-left-color: var(--fill-color);\n",
              "    }\n",
              "    20% {\n",
              "      border-color: transparent;\n",
              "      border-left-color: var(--fill-color);\n",
              "      border-top-color: var(--fill-color);\n",
              "    }\n",
              "    30% {\n",
              "      border-color: transparent;\n",
              "      border-left-color: var(--fill-color);\n",
              "      border-top-color: var(--fill-color);\n",
              "      border-right-color: var(--fill-color);\n",
              "    }\n",
              "    40% {\n",
              "      border-color: transparent;\n",
              "      border-right-color: var(--fill-color);\n",
              "      border-top-color: var(--fill-color);\n",
              "    }\n",
              "    60% {\n",
              "      border-color: transparent;\n",
              "      border-right-color: var(--fill-color);\n",
              "    }\n",
              "    80% {\n",
              "      border-color: transparent;\n",
              "      border-right-color: var(--fill-color);\n",
              "      border-bottom-color: var(--fill-color);\n",
              "    }\n",
              "    90% {\n",
              "      border-color: transparent;\n",
              "      border-bottom-color: var(--fill-color);\n",
              "    }\n",
              "  }\n",
              "</style>\n",
              "\n",
              "  <script>\n",
              "    async function quickchart(key) {\n",
              "      const quickchartButtonEl =\n",
              "        document.querySelector('#' + key + ' button');\n",
              "      quickchartButtonEl.disabled = true;  // To prevent multiple clicks.\n",
              "      quickchartButtonEl.classList.add('colab-df-spinner');\n",
              "      try {\n",
              "        const charts = await google.colab.kernel.invokeFunction(\n",
              "            'suggestCharts', [key], {});\n",
              "      } catch (error) {\n",
              "        console.error('Error during call to suggestCharts:', error);\n",
              "      }\n",
              "      quickchartButtonEl.classList.remove('colab-df-spinner');\n",
              "      quickchartButtonEl.classList.add('colab-df-quickchart-complete');\n",
              "    }\n",
              "    (() => {\n",
              "      let quickchartButtonEl =\n",
              "        document.querySelector('#df-560b870c-3433-4d3b-83e7-7075ae21d80f button');\n",
              "      quickchartButtonEl.style.display =\n",
              "        google.colab.kernel.accessAllowed ? 'block' : 'none';\n",
              "    })();\n",
              "  </script>\n",
              "</div>\n",
              "\n",
              "    </div>\n",
              "  </div>\n"
            ],
            "application/vnd.google.colaboratory.intrinsic+json": {
              "type": "dataframe",
              "summary": "{\n  \"name\": \"df\",\n  \"rows\": 2,\n  \"fields\": [\n    {\n      \"column\": 71361,\n      \"properties\": {\n        \"dtype\": \"string\",\n        \"num_unique_values\": 2,\n        \"samples\": [\n          1,\n          \" Donald Trump Responds To Mockery Over Fake Swedish Attack \\u2013 Prepare To Laugh Your A** Off\\n\\n\\nLast night, at a rally in Melbourne, Florida, Trump was trying to build more fear of brown people in his base of loyalists by referencing a completely imaginary terror attack in Sweden. Since then, he s received an earful from the former Prime Minister of Sweden, prompted questions from confused Swedes, and social media has been abuzz with mockery of the imaginary attack, too.One would have expected Trump to respond fairly quickly, since he s now formally joined the ranks of Kellyanne Conway and Sean Spicer when it comes to fake terror attacks, but he didn t. He waited until this afternoon to respond, and it s extremely laughable:My statement as to what s happening in Sweden was in reference to a story that was broadcast on @FoxNews concerning immigrants & Sweden.  Donald J. Trump (@realDonaldTrump) February 19, 2017Yes, sure, by all means, let s call this debacle Fox News  fault and completely ignore the words that actually spewed forth from his mouth: You look at what s happening last night in Sweden. Sweden! Who would believe this? Sweden! They took in large numbers. They re having problems that they never thought possible. Twitter, meanwhile, is positively gleeful in their mockery of the liar of liars for another egregious lie:@realDonaldTrump  none of which referred to anything that happened two nights ago.  Alex Zalben (@azalben) February 19, 2017.@realDonaldTrump  I apologize. I will hold myself to provide a more clear and accurate respresentation of my beliefs in future speeches.  Will McAvoy (@WillMcAvoyACN) February 19, 2017@realDonaldTrump Hey, dumbass. What happened in Sweden? Nothing. That s what. FAKE NEWS! pic.twitter.com/PR4Cu42mbb  The Socialist Party (@OfficialSPGB) February 19, 2017@realDonaldTrump @FoxNews Of course it fucking was.  Mark Pygas (@MarkPygas) February 19, 2017@realDonaldTrump You said  last night in Sweden . Don t retract. You are fake news for the unintelligent.  Tony Posnanski (@tonyposnanski) February 19, 2017You are fake news, Mr. So-Called President.#swedenincident #iamamuslimtoo #FuckYouBitch https://t.co/MGOL0oWFPs  Jade Helm Commander (@Anomaly100) February 19, 2017.@realDonaldTrump Who needs the intelligence community when there is Fox News?  Simon Hedlin (@simonhedlin) February 19, 2017Here s someone who was a likely witness to the imaginary attack, since reports say Swedish fish were everywhere at the scene:@realDonaldTrump @FoxNews pic.twitter.com/bGk4nMmc5e  Mike Denison (@mikd33) February 19, 2017@mikd33 @realDonaldTrump @FoxNews These fish are clearly terrorists.  Austin Braun (@AustinOnSocial) February 19, 2017@realDonaldTrump @FoxNews pic.twitter.com/dYPgcgHhmo  #TheResistance (@AynRandPaulRyan) February 19, 2017@realDonaldTrump @FoxNews pic.twitter.com/hoF53staXG  #TheResistance (@AynRandPaulRyan) February 19, 2017@realDonaldTrump Also, is @foxandfriends your new National Security Advisor?  Evan Dashevsky (@haldash) February 19, 2017@realDonaldTrump  oh I saw it on TV, people told me this  instead of being responsible for what comes out of his mouth.  Erick Fernandez (@ErickFernandez) February 19, 2017@realDonaldTrump @FoxNews OK time to have a chat again, so tell President Emperor Bannon you need a smoke break. This will take a bit.  Kevin (@TheKevinDent) February 19, 2017@realDonaldTrump So you blindly spout whether @FoxNews tells you to? It s pathetic, not to mention awfully irresponsible, 45.  Mike P Williams (@Mike_P_Williams) February 19, 2017Here s what someone who appears to be in Sweden has to say:@realDonaldTrump @FoxNews There is no migrant crisis in Sweden. We have free health care, free education, a functioning welfare system. ??  Ines Helene (@inihelene) February 19, 2017How embarrassing. You re hopelessly confused. Sad! @realDonaldTrump https://t.co/2mRZAjuj6f  Charles Johnson (@Green_Footballs) February 19, 2017Um @erichmcelroy is @realDonaldTrump now trying to blame @FoxNews? I thought we could trust them!  Mark Machado (@MarkMachado) February 19, 2017 Maybe, just as a change of pace and maybe to keep all of us on our toes, he should actually take responsibility for what he says and apologize. But what are we talking about? Trump is one of the worst pathological liars in the long, sad history of pathological liars.Featured image by Joe Raedle via Getty Images\"\n        ],\n        \"semantic_type\": \"\",\n        \"description\": \"\"\n      }\n    },\n    {\n      \"column\": 11496,\n      \"properties\": {\n        \"dtype\": \"string\",\n        \"num_unique_values\": 2,\n        \"samples\": [\n          1,\n          \"Tweetwave\\n\\n\\nThis time it's true no pantsTweetwave More Of Anthony Weiner's Greatest Hits Users browsing this forum: No registered users and 13 guests Display posts from previous: Powered by phpBB \\u00a9 2000, 2002, 2005, 2007 phpBB Group The uncontested absurdities of today are the accepted slogans of tomorrow. They come to be accepted by degrees, by precedent, by implication, by erosion, by default, by dint of constant pressure on one side and constant retreat on the other - until the day when they are suddenly declared to be the country's official ideology. ~ Ayn Rand \\nRubiks & Rubik\\u2019s Cube \\u00ae used by special individual permission of Seven Town Ltd. Write down this number and report to your Kommissar at the nearest railroad station. Don't forget warm clothes and a shovel! Channel list \\nFollowing hurricane Matthew's failure to devastate Florida, activists flock to the Sunshine State and destroy Trump signs manually \\nTim Kaine takes credit for interrupting hurricane Matthew while debating weather in Florida \\nStudy: Many non-voters still undecided on how they're not going to vote \\nThe Evolution of Dissent: on November 8th the nation is to decide whether dissent will stop being racist and become sexist - or it will once again be patriotic as it was for 8 years under George W. Bush \\nVenezuela solves starvation problem by making it mandatory to buy food \\nBreaking: the Clinton Foundation set to investigate the FBI \\nObama \\u200b\\u200bcaptures rare Pok\\u00e9mon \\u200b\\u200bwhile visiting Hiroshima \\nMovie news: 'The Big Friendly Giant Government' flops at box office; audiences say \\\"It's creepy\\\" \\nBarack Obama: \\\"If I had a son, he'd look like Micah Johnson\\\" \\nWhite House edits Orlando 911 transcript to say shooter pledged allegiance to NRA and Republican Party \\nPresident George Washington: 'Redcoats do not represent British Empire; King George promotes a distorted version of British colonialism' \\nFollowing Obama's 'Okie-Doke' speech , stock of Okie-Doke soars; NASDAQ: 'Obama best Okie-Doke salesman' \\nWeaponized baby formula threatens Planned Parenthood office; ACLU demands federal investigation of Gerber \\nExperts: melting Antarctic glacier could cause sale levels to rise up to 80% off select items by this weekend \\nTravel advisory: airlines now offering flights to front of TSA line \\nAs Obama instructs his administration to get ready for presidential transition, Trump preemptively purchases 'T' keys for White House keyboards \\nJohn Kasich self-identifies as GOP primary winner, demands access to White House bathroom \\nUpcoming Trump/Kelly interview on FoxNews sponsored by 'Let's Make a Deal' and 'The Price is Right' \\nNews from 2017: once the evacuation of Lena Dunham and 90% of other Hollywood celebrities to Canada is confirmed, Trump resigns from presidency: \\\"My work here is done\\\" \\nNon-presidential candidate Paul Ryan pledges not to run for president in new non-presidential non-ad campaign \\nTrump suggests creating 'Muslim database'; Obama symbolically protests by shredding White House guest logs beginning 2009 \\nNational Enquirer: John Kasich's real dad was the milkman, not mailman \\nNational Enquirer: Bound delegates from Colorado, Wyoming found in Ted Cruz\\u2019s basement \\nIran breaks its pinky-swear promise not to support terrorism; US State Department vows rock-paper-scissors strategic response \\nWomen across the country cheer as racist Democrat president on $20 bill is replaced by black pro-gun Republican \\nFederal Reserve solves budget crisis by writing itself a 20-trillion-dollar check \\nWidows, orphans claim responsibility for Brussels airport bombing \\nChe Guevara's son hopes Cuba's communism will rub off on US, proposes a long list of people the government should execute first \\nSusan Sarandon: \\\"I don't vote with my vagina.\\\" Voters in line behind her still suspicious, use hand sanitizer \\nCampaign memo typo causes Hillary to court 'New Black Panties' vote \\nNew Hampshire votes for socialist Sanders, changes state motto to \\\"Live FOR Free or Die\\\" \\nMartin O'Malley drops out of race after Iowa Caucus; nation shocked with revelation he has been running for president \\nStatisticians: one out of three Bernie Sanders supporters is just as dumb as the other two \\nHillary campaign denies accusations of smoking-gun evidence in her emails, claims they contain only smoking-circumstantial-gun evidence \\nObama stops short of firing US Congress upon realizing the difficulty of assembling another group of such tractable yes-men \\nIn effort to contol wild passions for violent jihad, White House urges gun owners to keep their firearms covered in gun burkas \\nTV horror live: A Charlie Brown Christmas gets shot up on air by Mohammed cartoons \\nDemocrats vow to burn the country down over Ted Cruz statement, 'The overwhelming majority of violent criminals are Democrats' \\nRussia's trend to sign bombs dropped on ISIS with \\\"This is for Paris\\\" found response in Obama administration's trend to sign American bombs with \\\"Return to sender\\\" \\nUniversity researchers of cultural appropriation quit upon discovery that their research is appropriation from a culture that created universities \\nArcheologists discover remains of what Barack Obama has described as unprecedented, un-American, and not-who-we-are immigration screening process in Ellis Island \\nMizzou protests lead to declaring entire state a \\\"safe space,\\\" changing Missouri motto to \\\"The don't show me state\\\" \\nGreen energy fact: if we put all green energy subsidies together in one-dollar bills and burn them, we could generate more electricity than has been produced by subsidized green energy \\nState officials improve chances of healthcare payouts by replacing ObamaCare with state lottery \\nNASA's new mission to search for racism, sexism, and economic inequality in deep space suffers from race, gender, and class power struggles over multibillion-dollar budget \\nCollege progress enforcement squads issue schematic humor charts so students know if a joke may be spontaneously laughed at or if regulations require other action \\nISIS opens suicide hotline for US teens depressed by climate change and other progressive doomsday scenarios \\nVirginia county to close schools after teacher asks students to write 'death to America' in Arabic \\n'Wear hijab to school day' ends with spontaneous female circumcision and stoning of a classmate during lunch break \\nISIS releases new, even more barbaric video in an effort to regain mantle from Planned Parenthood \\nImpressed by Fox News stellar rating during GOP debates, CNN to use same formula on Democrat candidates asking tough, pointed questions about Republicans \\nShocking new book explores pros and cons of socialism, discovers they are same people \\nPope outraged by Planned Parenthood's \\\"unfettered capitalism,\\\" demands equal redistribution of baby parts to each according to his need \\nJohn Kerry accepts Iran's \\\"Golden Taquiyya\\\" award, requests jalapenos on the side \\nCitizens of Pluto protest US government's surveillance of their planetoid and its moons with New Horizons space drone \\nJohn Kerry proposes 3-day waiting period for all terrorist nations trying to acquire nuclear weapons \\nChicago Police trying to identify flag that caused nine murders and 53 injuries in the city this past weekend \\nCuba opens to affordable medical tourism for Americans who can't afford Obamacare deductibles \\nState-funded research proves existence of Quantum Aggression Particles (Heterons) in Large Hadron Collider \\nStudent job opportunities: make big bucks this summer as Hillary\\u2019s Ordinary-American; all expenses paid, travel, free acting lessons \\nExperts debate whether Iranian negotiators broke John Kerry's leg or he did it himself to get out of negotiations \\nJunior Varsity takes Ramadi, advances to quarterfinals \\nUS media to GOP pool of candidates: 'Knowing what we know now, would you have had anything to do with the founding of the United States?' \\nNY Mayor to hold peace talks with rats, apologize for previous Mayor's cowboy diplomacy \\nChina launches cube-shaped space object with a message to aliens: \\\"The inhabitants of Earth will steal your intellectual property, copy it, manufacture it in sweatshops with slave labor, and sell it back to you at ridiculously low prices\\\" \\nProgressive scientists: Truth is a variable deduced by subtracting 'what is' from 'what ought to be' \\nExperts agree: Hillary Clinton best candidate to lessen percentage of Americans in top 1% \\nAmerica's attempts at peace talks with the White House continue to be met with lies, stalling tactics, and bad faith \\nStarbucks new policy to talk race with customers prompts new hashtag #DontHoldUpTheLine \\nHillary: DELETE is the new RESET \\nCharlie Hebdo receives Islamophobe 2015 award ; the cartoonists could not be reached for comment due to their inexplicable, illogical deaths \\nRussia sends 'reset' button back to Hillary: 'You need it now more than we do' \\nBarack Obama finds out from CNN that Hillary Clinton spent four years being his Secretary of State \\nPresident Obama honors Leonard Nimoy by taking selfie in front of Starship Enterprise \\nPolice: If Obama had a convenience store, it would look like Obama Express Food Market \\nStudy finds stunning lack of racial, gender, and economic diversity among middle-class white males \\nNASA: We're 80% sure about being 20% sure about being 17% sure about being 38% sure about 2014 being the hottest year on record \\nPeople holding '$15 an Hour Now' posters sue Democratic party demanding raise to $15 an hour for rendered professional protesting services \\nCuba-US normalization: US tourists flock to see Cuba before it looks like the US and Cubans flock to see the US before it looks like Cuba \\nWhite House describes attacks on Sony Pictures as 'spontaneous hacking in response to offensive video mocking Juche and its prophet' \\nCIA responds to Democrat calls for transparency by releasing the director's cut of The Making Of Obama's Birth Certificate \\nObama: 'If I had a city, it would look like Ferguson' \\nBiden: 'If I had a Ferguson (hic), it would look like a city' \\nObama signs executive order renaming 'looters' to 'undocumented shoppers' \\nEthicists agree: two wrongs do make a right so long as Bush did it first \\nThe aftermath of the 'War on Women 2014' finds a new 'Lost Generation' of disillusioned Democrat politicians, unable to cope with life out of office \\nWhite House: Republican takeover of the Senate is a clear mandate from the American people for President Obama to rule by executive orders \\nNurse Kaci Hickox angrily tells reporters that she won't change her clocks for daylight savings time \\nDemocratic Party leaders in panic after recent poll shows most Democratic voters think 'midterm' is when to end pregnancy \\nDesperate Democratic candidates plead with Obama to stop backing them and instead support their GOP opponents \\nEbola Czar issues five-year plan with mandatory quotas of Ebola infections per each state based on voting preferences \\nStudy: crony capitalism is to the free market what the Westboro Baptist Church is to Christianity \\nFun facts about world languages: the Left has more words for statism than the Eskimos have for snow \\nAfrican countries to ban all flights from the United States because \\\"Obama is incompetent, it scares us\\\" \\nNobel Peace Prize controversy: Hillary not nominated despite having done even less than Obama to deserve it \\nObama: 'Ebola is the JV of viruses' \\nBREAKING: Secret Service foils Secret Service plot to protect Obama \\nRevised 1st Amendment: buy one speech, get the second free \\nSharpton calls on white NFL players to beat their women in the interests of racial fairness \\nPresident Obama appoints his weekly approval poll as new national security adviser \\nObama wags pen and phone at Putin; Europe offers support with powerful pens and phones from NATO members \\nWhite House pledges to embarrass ISIS back to the Stone Age with a barrage of fearsome Twitter messages and fatally ironic Instagram photos \\nObama to fight ISIS with new federal Terrorist Regulatory Agency \\nObama vows ISIS will never raise their flag over the eighteenth hole \\nHarry Reid: \\\"Sometimes I say the wong thing\\\" \\nElian Gonzalez wishes he had come to the U.S. on a bus from Central America like all the other kids \\nObama visits US-Mexican border, calls for a two-state solution \\nObama draws \\\"blue line\\\" in Iraq after Putin took away his red crayon \\n\\\"Hard Choices,\\\" a porno flick loosely based on Hillary Clinton's memoir and starring Hillary Hellfire as a drinking, whoring Secretary of State, wildly outsells the flabby, sagging original \\nAccusations of siding with the enemy leave Sgt. Bergdahl with only two options: pursue a doctorate at Berkley or become a Senator from Massachusetts \\nJay Carney stuck in line behind Eric Shinseki to leave the White House; estimated wait time from 15 min to 6 weeks \\n100% of scientists agree that if man-made global warming were real, \\\"the last people we'd want to help us is the Obama administration\\\" \\nJay Carney says he found out that Obama found out that he found out that Obama found out that he found out about the latest Obama administration scandal on the news \\n\\\"Anarchy Now!\\\" meeting turns into riot over points of order, bylaws, and whether or not 'kicking the #^@&*! ass' of the person trying to speak is or is not violence \\nObama retaliates against Putin by prohibiting unionized federal employees from dating hot Russian girls online during work hours \\nRussian separatists in Ukraine riot over an offensive YouTube video showing the toppling of Lenin statues \\n\\\"Free Speech Zones\\\" confuse Obamaphone owners who roam streets in search of additional air minutes \\nObamacare bolsters employment for professionals with skills to convert meth back into sudafed \\nGloves finally off: Obama uses pen and phone to cancel Putin's Netflix account \\nJoe Biden to Russia: \\\"We will bury you by turning more of Eastern Europe over to your control!\\\" \\nIn last-ditch effort to help Ukraine, Obama deploys Rev. Sharpton and Rev. Jackson's Rainbow Coalition to Crimea \\nAl Sharpton: \\\"Not even Putin can withstand our signature chanting, 'racist, sexist, anti-gay, Russian army go away'!\\\" \\nMardi Gras in North Korea: \\\" Throw me some food! \\\" \\nObama's foreign policy works: \\\"War, invasion, and conquest are signs of weakness; we've got Putin right where we want him\\\" \\nUS offers military solution to Ukraine crisis: \\\"We will only fight countries that have LGBT military\\\" \\nPutin annexes Brighton Beach to protect ethnic Russians in Brooklyn, Obama appeals to UN and EU for help \\nThe 1980s: \\\"Mr. Obama, we're just calling to ask if you want our foreign policy back . The 1970s are right here with us, and they're wondering, too.\\\" \\nIn a stunning act of defiance, Obama courageously unfriends Putin on Facebook \\nMSNBC: Obama secures alliance with Austro-Hungarian Empire against Russia\\u2019s aggression in Ukraine \\nStudy: springbreak is to STDs what April 15th is to accountants \\nEfforts to achieve moisture justice for California thwarted by unfair redistribution of snow in America \\nNorth Korean voters unanimous: \\\"We are the 100%\\\" \\nLeader of authoritarian gulag-site, The People's Cube, unanimously 're-elected' with 100% voter turnout \\nSuper Bowl: Obama blames Fox News for Broncos' loss \\nFeminist author slams gay marriage: \\\"a man needs a man like a fish needs a bicycle\\\" \\nBeverly Hills campaign heats up between Henry Waxman and Marianne Williamson over the widening income gap between millionaires and billionaires in their district \\nBiden to lower $10,000-a-plate Dinner For The Homeless to $5,000 so more homeless can attend \\nKim becomes world leader, feeds uncle to dogs; Obama eats dogs, becomes world leader, America cries uncle \\nNorth Korean leader executes own uncle for talking about Obamacare at family Christmas party \\nWhite House hires part-time schizophrenic Mandela sign interpreter to help sell Obamacare \\nKim Jong Un executes own \\\" crazy uncle \\\" to keep him from ruining another family Christmas \\nOFA admits its advice for area activists to give Obamacare Talk at shooting ranges was a bad idea \\nPresident resolves Obamacare debacle with executive order declaring all Americans equally healthy \\nObama to Iran: \\\"If you like your nuclear program, you can keep your nuclear program\\\" \\nBovine community outraged by flatulence coming from Washington DC \\nObama: \\\"I'm not particularly ideological; I believe in a good pragmatic five-year plan\\\" \\nShocker: Obama had no knowledge he'd been reelected until he read about it in the local newspaper last week \\nServer problems at HealthCare.gov so bad, it now flashes 'Error 808' message \\nNSA marks National Best Friend Day with official announcement: \\\"Government is your best friend; we know you like no one else, we're always there, we're always willing to listen\\\" \\nAl Qaeda cancels attack on USA citing launch of Obamacare as devastating enough \\nThe President's latest talking point on Obamacare: \\\"I didn't build that\\\" \\nDizzy with success, Obama renames his wildly popular healthcare mandate to HillaryCare \\nCarney: huge ObamaCare deductibles won't look as bad come hyperinflation \\nWashington Redskins drop 'Washington' from their name as offensive to most Americans \\nPoll: 83% of Americans favor cowboy diplomacy over rodeo clown diplomacy \\nGOVERNMENT WARNING: If you were able to complete ObamaCare form online, it wasn't a legitimate gov't website; you should report online fraud and change all your passwords \\nObama administration gets serious, threatens Syria with ObamaCare \\nObama authorizes the use of Vice President Joe Biden's double-barrel shotgun to fire a couple of blasts at Syria \\nSharpton: \\\"British royals should have named baby 'Trayvon.' By choosing 'George' they sided with white Hispanic racist Zimmerman\\\" \\nDNC launches 'Carlos Danger' action figure; proceeds to fund a charity helping survivors of the Republican War on Women \\nNancy Pelosi extends abortion rights to the birds and the bees \\nHubble discovers planetary drift to the left \\nObama: 'If I had a daughter-in-law, she would look like Rachael Jeantel' \\nFISA court rubberstamps statement denying its portrayal as government's rubber stamp \\nEvery time ObamaCare gets delayed, a Julia somewhere dies \\nGOP to Schumer: 'Force full implementation of ObamaCare before 2014 or Dems will never win another election' \\nObama: 'If I had a son... no, wait, my daughter can now marry a woman!' \\nJanet Napolitano: TSA findings reveal that since none of the hijackers were babies, elderly, or Tea Partiers, 9/11 was not an act of terrorism \\nNews Flash: Sen. Mary Landrieu (D-LA) can see Canada from South Dakota \\nSusan Rice: IRS actions against tea parties caused by anti-tax YouTube video that was insulting to their faith \\nDrudge Report reduces font to fit all White House scandals onto one page \\nObama: the IRS is a constitutional right, just like the Second Amendment \\nWhite House: top Obama officials using secret email accounts a result of bad IT advice to avoid spam mail from Nigeria \\nJay Carney to critics: 'Pinocchio never said anything inconsistent' \\nObama: If I had a gay son, he'd look like Jason Collins \\nGosnell's office in Benghazi raided by the IRS: mainstream media's worst cover-up challenge to date \\nIRS targeting pro-gay-marriage LGBT groups leads to gayest tax revolt in U.S. history \\nAfter Arlington Cemetery rejects offer to bury Boston bomber, Westboro Babtist Church steps up with premium front lawn plot \\nBoston: Obama Administration to reclassify marathon bombing as 'sportsplace violence' \\nStudy: Success has many fathers but failure becomes a government program \\nUS Media: Can Pope Francis possibly clear up Vatican bureaucracy and banking without blaming the previous administration? \\nMichelle Obama praises weekend rampage by Chicago teens as good way to burn calories and stay healthy \\nThis Passover, Obama urges his subjects to paint lamb's blood above doors in order to avoid the Sequester \\nWhite House to American children: Sequester causes layoffs among hens that lay Easter eggs; union-wage Easter Bunnies to be replaced by Mexican Chupacabras \\nTime Mag names Hugo Chavez world's sexiest corpse \\nBoy, 8, pretends banana is gun, makes daring escape from school \\nStudy: Free lunches overpriced, lack nutrition \\nOscars 2013: Michelle Obama announces long-awaited merger of Hollywood and the State \\nJoe Salazar defends the right of women to be raped in gun-free environment: 'rapists and rapees should work together to prevent gun violence for the common good' \\nDept. of Health and Human Services eliminates rape by reclassifying assailants as 'undocumented sex partners' \\nKremlin puts out warning not to photoshop Putin riding meteor unless bare-chested \\nDeeming football too violent, Obama moves to introduce Super Drone Sundays instead \\nJapan offers to extend nuclear umbrella to cover U.S. should America suffer devastating attack on its own defense spending \\nFeminists organize one billion women to protest male oppression with one billion lap dances \\nUrban community protests Mayor Bloomberg's ban on extra-large pop singers owning assault weapons \\nConcerned with mounting death toll, Taliban offers to send peacekeeping advisers to Chicago \\nKarl Rove puts an end to Tea Party with new 'Republicans For Democrats' strategy aimed at losing elections \\nAnswering public skepticism, President Obama authorizes unlimited drone attacks on all skeet targets throughout the country \\nSkeet Ulrich denies claims he had been shot by President but considers changing his name to 'Traps' \\nWhite House releases new exciting photos of Obama standing, sitting, looking thoughtful, and even breathing in and out \\nNew York Times hacked by Chinese government, Paul Krugman's economic policies stolen \\nWhite House: when President shoots skeet, he donates the meat to food banks that feed the middle class \\nTo prove he is serious, Obama eliminates armed guard protection for President, Vice-President, and their families; establishes Gun-Free Zones around them instead \\nState Dept to send 100,000 American college students to China as security for US debt obligations \\nJay Carney: Al Qaeda is on the run, they're just running forward \\nPresident issues executive orders banning cliffs, ceilings, obstructions, statistics, and other notions that prevent us from moving forwards and upward \\nFearing the worst, Obama Administration outlaws the fan to prevent it from being hit by certain objects \\nWorld ends; S&P soars \\nRiddle of universe solved; answer not understood \\nMeek inherit Earth, can't afford estate taxes \\nGreece abandons Euro; accountants find Greece has no Euros anyway \\nWheel finally reinvented; axles to be gradually reinvented in 3rd quarter of 2013 \\nBigfoot found in Ohio, mysteriously not voting for Obama \\nAs Santa's workshop files for bankruptcy, Fed offers bailout in exchange for control of 'naughty and nice' list \\nFreak flying pig accident causes bacon to fly off shelves \\nObama: green economy likely to transform America into a leading third world country of the new millennium \\nReport: President Obama to visit the United States in the near future \\nObama promises to create thousands more economically neutral jobs \\nModernizing Islam: New York imam proposes to canonize Saul Alinsky as religion's latter day prophet \\nImam Rauf's peaceful solution: 'Move Ground Zero a few blocks away from the mosque and no one gets hurt' \\nStudy: Obama's threat to burn tax money in Washington 'recruitment bonanza' for Tea Parties \\nStudy: no Social Security reform will be needed if gov't raises retirement age to at least 814 years \\nObama attends church service, worships self \\nObama proposes national 'Win The Future' lottery; proceeds of new WTF Powerball to finance more gov't spending \\nHistorical revisionists: \\\"Hey, you never know\\\" \\nVice President Biden: criticizing Egypt is un-pharaoh \\nIsraelis to Egyptian rioters: \\\"don't damage the pyramids, we will not rebuild\\\" \\nLake Superior renamed Lake Inferior in spirit of tolerance and inclusiveness \\nAl Gore: It's a shame that a family can be torn apart by something as simple as a pack of polar bears \\nMichael Moore: As long as there is anyone with money to shake down, this country is not broke \\nObama's teleprompters unionize, demand collective bargaining rights \\nObama calls new taxes 'spending reductions in tax code.' Elsewhere rapists tout 'consent reductions in sexual intercourse' \\nObama's teleprompter unhappy with White House Twitter: \\\"Too few words\\\" \\nObama's Regulation Reduction committee finds US Constitution to be expensive outdated framework inefficiently regulating federal gov't \\nTaking a page from the Reagan years, Obama announces new era of Perestroika and Glasnost \\nResponding to Oslo shootings, Obama declares Christianity \\\"Religion of Peace,\\\" praises \\\"moderate Christians,\\\" promises to send one into space \\nRepublicans block Obama's $420 billion program to give American families free charms that ward off economic bad luck \\nWhite House to impose Chimney tax on Santa Claus \\nObama decrees the economy is not soaring as much as previously decreeed \\nConservative think tank introduces children to capitalism with pop-up picture book \\\"The Road to Smurfdom\\\" \\nAl Gore proposes to combat Global Warming by extracting silver linings from clouds in Earth's atmosphere \\nObama refutes charges of him being unresponsive to people's suffering: \\\"When you pray to God, do you always hear a response?\\\" \\nObama regrets the US government didn't provide his mother with free contraceptives when she was in college \\nFluke to Congress: drill, baby, drill! \\nPlanned Parenthood introduces Frequent Flucker reward card: 'Come again soon!' \\nObama to tornado victims: 'We inherited this weather from the previous administration' \\nObama congratulates Putin on Chicago-style election outcome \\nPeople's Cube gives itself Hero of Socialist Labor medal in recognition of continued expert advice provided to the Obama Administration helping to shape its foreign and domestic policies \\nHamas: Israeli air defense unfair to 99% of our missiles, \\\"only 1% allowed to reach Israel\\\" \\nDemocrat strategist: without government supervision, women would have never evolved into humans \\nVoters Without Borders oppose Texas new voter ID law \\nEnraged by accusation that they are doing Obama's bidding, media leaders demand instructions from White House on how to respond \\nObama blames previous Olympics for failure to win at this Olympics \\nOfficial: China plans to land on Moon or at least on cheap knockoff thereof \\nKoran-Contra: Obama secretly arms Syrian rebels \\nPoll: Progressive slogan 'We should be more like Europe' most popular with members of American Nazi Party \\nObama to Evangelicals: Jesus saves, I just spend \\nMay Day: Anarchists plan, schedule, synchronize, and execute a coordinated campaign against all of the above \\nMidwestern farmers hooked on new erotic novel \\\"50 Shades of Hay\\\" \\nStudy: 99% of Liberals give the rest a bad name \\nObama meets with Jewish leaders, proposes deeper circumcisions for the rich \\nHistorians: Before HOPE & CHANGE there was HEMP & CHOOM at ten bucks a bag \\nCancer once again fails to cure Venezuela of its \\\"President for Life\\\" \\nTragic spelling error causes Muslim protesters to burn local boob-tube factory \\nSecretary of Energy Steven Chu: due to energy conservation, the light at the end of the tunnel will be switched off \\nObama Administration running food stamps across the border with Mexico in an operation code-named \\\"Fat And Furious\\\" \\nPakistan explodes in protest over new Adobe Acrobat update; 17 local acrobats killed \\nWhite House: \\\"Let them eat statistics\\\" \\nSpecial Ops: if Benedict Arnold had a son, he would look like Barack Obama\"\n        ],\n        \"semantic_type\": \"\",\n        \"description\": \"\"\n      }\n    },\n    {\n      \"column\": 20292,\n      \"properties\": {\n        \"dtype\": \"string\",\n        \"num_unique_values\": 2,\n        \"samples\": [\n          0,\n          \"Rubio says prospect of Trump president is 'worrisome'\\n\\n\\n(Reuters) - U.S. Senator Marco Rubio said on Wednesday that he was running for re-election in part to provide a counter-weight to whomever might win the White House in November, whether Democrat Hillary Clinton or Republican Donald Trump. Rubio criticized Clinton in a statement he released to explain his decision, but added: \\u201cThe prospect of a Trump presidency is also worrisome to me.\\u201d \\u201cIf he is elected, we will need senators willing to encourage him in the right direction, and if necessary, stand up to him. I\\u2019ve proven a willingness to do both,\\u201d Rubio said. \"\n        ],\n        \"semantic_type\": \"\",\n        \"description\": \"\"\n      }\n    },\n    {\n      \"column\": 38855,\n      \"properties\": {\n        \"dtype\": \"string\",\n        \"num_unique_values\": 2,\n        \"samples\": [\n          0,\n          \"Trump lifts Cyber Command status to boost cyber defense\\n\\n\\nWASHINGTON (Reuters) - President Donald Trump said on Friday he was elevating the status of the Pentagon\\u2019s U.S. Cyber Command to help spur development of cyber weapons to deter attacks and punish intruders. In a statement, Trump said the unit would be ranked at the level of Unified Combatant Command focused on cyberspace operations. Cyber Command\\u2019s elevation reflects a push to strengthen U.S. capabilities to interfere with the military programs of adversaries such as North Korea\\u2019s nuclear and missile development and Islamic State\\u2019s ability to recruit, inspire and direct attacks, three U.S. intelligence officials said this month, speaking on the condition of anonymity. Cyber Command had been subordinate to the U.S. Strategic Command, which is also responsible for military space operations, nuclear weapons and missile defense. Once elevated, Cyber Command would have the same status as U.S. Strategic Command and eight other unified commands that control U.s. military forces and are composed of personnel from multiple branches of the armed services.  The Pentagon did not specify how long the elevation process would take. Current and former officials said a leading candidate to head U.S. Cyber Command was Army Lt. Gen. William Mayville, currently director of the Pentagon\\u2019s Joint Staff. Trump also said the defense secretary was also considering separating the U.S. Cyber Command from the National Security Agency (NSA). Cyber Command\\u2019s mission is to shut down and, when ordered, counter cyber attacks. The NSA\\u2019s role is to gather intelligence and generally favors monitoring enemies\\u2019 cyber activities. Republican Senators John McCain and Lindsey Graham, both strong voices on security matters, praised the move and said it would boost the command\\u2019s abilities.  Still, McCain, chairman of the Senate Armed Services Committee, said more steps were needed to meet the nation\\u2019s cyber security challenges. \\u201cWe must develop a clear policy and strategy for deterring and responding to cyber threats. We must also develop an integrated, whole-of-government approach to protect and defend the United States from cyberattacks,\\u201d he said in a statement. The new combatant command will improve U.S. capabilities to punish foreign cyberattacks and discourage attempts to disrupt critical U.S. infrastructure such as financial networks, electric grids, and medical systems. It will establish a cyber version of the nuclear doctrine of \\u201cmutual assured destruction\\u201d between the United States and the former Soviet Union, the three U.S. officials said The U.S. is more vulnerable to cyber intrusions than its most capable adversaries, including China, Russia, and North Korea, because its economy is more dependent on the internet, two of the officials said. As other nations improve their communications networks, their vulnerability will grow, they added. \"\n        ],\n        \"semantic_type\": \"\",\n        \"description\": \"\"\n      }\n    },\n    {\n      \"column\": 20416,\n      \"properties\": {\n        \"dtype\": \"string\",\n        \"num_unique_values\": 2,\n        \"samples\": [\n          1,\n          \" The 7 Biggest Republican Lies About The Economy Torn Apart In Three Minutes (VIDEO)\\n\\n\\nIn two-and-a-half minutes, former U.S. Secretary of Labor Robert Reich destroys the seven biggest economic lies told by Republicans.In the short video, uploaded to YouTube by MoveOn, Reich uses facts to shred the Republican myth of trickle-down economics.While Republicans tell us that cutting taxes on the rich will spur economic growth and fuel job creation, the economic data tells a very different story. As Reich points out in the video, both Ronald Reagan and George W. Bush cut taxes on the rich, and  nothing trickled down. The result of Republican tax cuts for the rich have been the same across the states. GOP governors like Bobby Jindal and Rick Snyder have driven their states into economic ruin by imposing experimental trickle-down economic policies on citizens, with disastrous results.Along the same lines, Republicans claim that high taxes on the rich are bad for the economy. Yet history shows the opposite is true.Until 1980, taxes on the top earners in the U.S. were 70 percent. It wasn t until Republicans started cutting these tax rates that economic growth began to slow.Reich also tackles the myth that shrinking government creates jobs. The idea that we create jobs by firing people who already have jobs literally defies reason, but that hasn t stopped republicans from pushing it. It doesn t take much to destroy this lie.While republicans were remarkably silent about the national deficit while George Bush was in the White House, it suddenly became earth-shatteringly important on the day President Obama took office.Reich destroys the myth of deficit reduction as a top priority, explaining that the goal is to reduce the debt as a percent of the GDP, something that cannot be accomplished by slashing budgets all over the place.Reich also looks at how the rising cost of health care impacts the budget, busting the GOP myth that programs like Medicare and Medicaid are negatively impacting the economy.What s important to understand in relation to the health care debate is that government programs actually help slow the increase in health care costs for everyone.The right has been attacking social security as a  Ponzi scheme  ever since they figured out that there was a lot of money in the social security fund that they couldn t get their greedy little hands on.Is this true? Of course it s not. As Reich explains in the video, Social security is solvent for the next two-plus decades, and it would solvent for much longer if we lift the income cap.The video would not be complete if it didn t address the lie that lower-income people not paying taxes is horribly unfair to the rich.Watch the video below, courtesy of MoveOn on YouTube: While the video above was released in 2011, Republicans are still using these same debunked economic myths to press their disastrous agenda all across the country.As long as Republicans continue to try to repackage and sell these same old lies at election time, we ll be forced to keep debunking their myths time and time again.Image credit: wikimedia commons, video screen capture via MoveOn \"\n        ],\n        \"semantic_type\": \"\",\n        \"description\": \"\"\n      }\n    }\n  ]\n}"
            }
          },
          "metadata": {},
          "execution_count": 31
        }
      ]
    },
    {
      "cell_type": "code",
      "source": [
        "df.info()\n"
      ],
      "metadata": {
        "colab": {
          "base_uri": "https://localhost:8080/"
        },
        "id": "CZ4fdIQE_-av",
        "outputId": "4eda825f-2551-400c-a342-5790bbfbf7ae"
      },
      "execution_count": null,
      "outputs": [
        {
          "output_type": "stream",
          "name": "stdout",
          "text": [
            "<class 'pandas.core.frame.DataFrame'>\n",
            "Index: 63121 entries, 0 to 72132\n",
            "Data columns (total 2 columns):\n",
            " #   Column  Non-Null Count  Dtype \n",
            "---  ------  --------------  ----- \n",
            " 0   title   63121 non-null  object\n",
            " 1   label   63121 non-null  int64 \n",
            "dtypes: int64(1), object(1)\n",
            "memory usage: 1.4+ MB\n"
          ]
        }
      ]
    },
    {
      "cell_type": "code",
      "source": [
        "df.tail(5)\n"
      ],
      "metadata": {
        "colab": {
          "base_uri": "https://localhost:8080/",
          "height": 206
        },
        "id": "1zmrqRVNACCN",
        "outputId": "beccc0be-06f9-4e83-b068-0e3cefa6f2e4"
      },
      "execution_count": null,
      "outputs": [
        {
          "output_type": "execute_result",
          "data": {
            "text/plain": [
              "                                                   title  label\n",
              "72127  WIKILEAKS EMAIL SHOWS CLINTON FOUNDATION FUNDS...      1\n",
              "72129  Russians steal research on Trump in hack of U....      0\n",
              "72130   WATCH: Giuliani Demands That Democrats Apolog...      1\n",
              "72131  Migrants Refuse To Leave Train At Refugee Camp...      0\n",
              "72132  Trump tussle gives unpopular Mexican leader mu...      0"
            ],
            "text/html": [
              "\n",
              "  <div id=\"df-afeb0371-b41f-4bf3-9d26-61a4ce158b4d\" class=\"colab-df-container\">\n",
              "    <div>\n",
              "<style scoped>\n",
              "    .dataframe tbody tr th:only-of-type {\n",
              "        vertical-align: middle;\n",
              "    }\n",
              "\n",
              "    .dataframe tbody tr th {\n",
              "        vertical-align: top;\n",
              "    }\n",
              "\n",
              "    .dataframe thead th {\n",
              "        text-align: right;\n",
              "    }\n",
              "</style>\n",
              "<table border=\"1\" class=\"dataframe\">\n",
              "  <thead>\n",
              "    <tr style=\"text-align: right;\">\n",
              "      <th></th>\n",
              "      <th>title</th>\n",
              "      <th>label</th>\n",
              "    </tr>\n",
              "  </thead>\n",
              "  <tbody>\n",
              "    <tr>\n",
              "      <th>72127</th>\n",
              "      <td>WIKILEAKS EMAIL SHOWS CLINTON FOUNDATION FUNDS...</td>\n",
              "      <td>1</td>\n",
              "    </tr>\n",
              "    <tr>\n",
              "      <th>72129</th>\n",
              "      <td>Russians steal research on Trump in hack of U....</td>\n",
              "      <td>0</td>\n",
              "    </tr>\n",
              "    <tr>\n",
              "      <th>72130</th>\n",
              "      <td>WATCH: Giuliani Demands That Democrats Apolog...</td>\n",
              "      <td>1</td>\n",
              "    </tr>\n",
              "    <tr>\n",
              "      <th>72131</th>\n",
              "      <td>Migrants Refuse To Leave Train At Refugee Camp...</td>\n",
              "      <td>0</td>\n",
              "    </tr>\n",
              "    <tr>\n",
              "      <th>72132</th>\n",
              "      <td>Trump tussle gives unpopular Mexican leader mu...</td>\n",
              "      <td>0</td>\n",
              "    </tr>\n",
              "  </tbody>\n",
              "</table>\n",
              "</div>\n",
              "    <div class=\"colab-df-buttons\">\n",
              "\n",
              "  <div class=\"colab-df-container\">\n",
              "    <button class=\"colab-df-convert\" onclick=\"convertToInteractive('df-afeb0371-b41f-4bf3-9d26-61a4ce158b4d')\"\n",
              "            title=\"Convert this dataframe to an interactive table.\"\n",
              "            style=\"display:none;\">\n",
              "\n",
              "  <svg xmlns=\"http://www.w3.org/2000/svg\" height=\"24px\" viewBox=\"0 -960 960 960\">\n",
              "    <path d=\"M120-120v-720h720v720H120Zm60-500h600v-160H180v160Zm220 220h160v-160H400v160Zm0 220h160v-160H400v160ZM180-400h160v-160H180v160Zm440 0h160v-160H620v160ZM180-180h160v-160H180v160Zm440 0h160v-160H620v160Z\"/>\n",
              "  </svg>\n",
              "    </button>\n",
              "\n",
              "  <style>\n",
              "    .colab-df-container {\n",
              "      display:flex;\n",
              "      gap: 12px;\n",
              "    }\n",
              "\n",
              "    .colab-df-convert {\n",
              "      background-color: #E8F0FE;\n",
              "      border: none;\n",
              "      border-radius: 50%;\n",
              "      cursor: pointer;\n",
              "      display: none;\n",
              "      fill: #1967D2;\n",
              "      height: 32px;\n",
              "      padding: 0 0 0 0;\n",
              "      width: 32px;\n",
              "    }\n",
              "\n",
              "    .colab-df-convert:hover {\n",
              "      background-color: #E2EBFA;\n",
              "      box-shadow: 0px 1px 2px rgba(60, 64, 67, 0.3), 0px 1px 3px 1px rgba(60, 64, 67, 0.15);\n",
              "      fill: #174EA6;\n",
              "    }\n",
              "\n",
              "    .colab-df-buttons div {\n",
              "      margin-bottom: 4px;\n",
              "    }\n",
              "\n",
              "    [theme=dark] .colab-df-convert {\n",
              "      background-color: #3B4455;\n",
              "      fill: #D2E3FC;\n",
              "    }\n",
              "\n",
              "    [theme=dark] .colab-df-convert:hover {\n",
              "      background-color: #434B5C;\n",
              "      box-shadow: 0px 1px 3px 1px rgba(0, 0, 0, 0.15);\n",
              "      filter: drop-shadow(0px 1px 2px rgba(0, 0, 0, 0.3));\n",
              "      fill: #FFFFFF;\n",
              "    }\n",
              "  </style>\n",
              "\n",
              "    <script>\n",
              "      const buttonEl =\n",
              "        document.querySelector('#df-afeb0371-b41f-4bf3-9d26-61a4ce158b4d button.colab-df-convert');\n",
              "      buttonEl.style.display =\n",
              "        google.colab.kernel.accessAllowed ? 'block' : 'none';\n",
              "\n",
              "      async function convertToInteractive(key) {\n",
              "        const element = document.querySelector('#df-afeb0371-b41f-4bf3-9d26-61a4ce158b4d');\n",
              "        const dataTable =\n",
              "          await google.colab.kernel.invokeFunction('convertToInteractive',\n",
              "                                                    [key], {});\n",
              "        if (!dataTable) return;\n",
              "\n",
              "        const docLinkHtml = 'Like what you see? Visit the ' +\n",
              "          '<a target=\"_blank\" href=https://colab.research.google.com/notebooks/data_table.ipynb>data table notebook</a>'\n",
              "          + ' to learn more about interactive tables.';\n",
              "        element.innerHTML = '';\n",
              "        dataTable['output_type'] = 'display_data';\n",
              "        await google.colab.output.renderOutput(dataTable, element);\n",
              "        const docLink = document.createElement('div');\n",
              "        docLink.innerHTML = docLinkHtml;\n",
              "        element.appendChild(docLink);\n",
              "      }\n",
              "    </script>\n",
              "  </div>\n",
              "\n",
              "\n",
              "<div id=\"df-973972a4-1741-4367-907d-0848c88ce06f\">\n",
              "  <button class=\"colab-df-quickchart\" onclick=\"quickchart('df-973972a4-1741-4367-907d-0848c88ce06f')\"\n",
              "            title=\"Suggest charts\"\n",
              "            style=\"display:none;\">\n",
              "\n",
              "<svg xmlns=\"http://www.w3.org/2000/svg\" height=\"24px\"viewBox=\"0 0 24 24\"\n",
              "     width=\"24px\">\n",
              "    <g>\n",
              "        <path d=\"M19 3H5c-1.1 0-2 .9-2 2v14c0 1.1.9 2 2 2h14c1.1 0 2-.9 2-2V5c0-1.1-.9-2-2-2zM9 17H7v-7h2v7zm4 0h-2V7h2v10zm4 0h-2v-4h2v4z\"/>\n",
              "    </g>\n",
              "</svg>\n",
              "  </button>\n",
              "\n",
              "<style>\n",
              "  .colab-df-quickchart {\n",
              "      --bg-color: #E8F0FE;\n",
              "      --fill-color: #1967D2;\n",
              "      --hover-bg-color: #E2EBFA;\n",
              "      --hover-fill-color: #174EA6;\n",
              "      --disabled-fill-color: #AAA;\n",
              "      --disabled-bg-color: #DDD;\n",
              "  }\n",
              "\n",
              "  [theme=dark] .colab-df-quickchart {\n",
              "      --bg-color: #3B4455;\n",
              "      --fill-color: #D2E3FC;\n",
              "      --hover-bg-color: #434B5C;\n",
              "      --hover-fill-color: #FFFFFF;\n",
              "      --disabled-bg-color: #3B4455;\n",
              "      --disabled-fill-color: #666;\n",
              "  }\n",
              "\n",
              "  .colab-df-quickchart {\n",
              "    background-color: var(--bg-color);\n",
              "    border: none;\n",
              "    border-radius: 50%;\n",
              "    cursor: pointer;\n",
              "    display: none;\n",
              "    fill: var(--fill-color);\n",
              "    height: 32px;\n",
              "    padding: 0;\n",
              "    width: 32px;\n",
              "  }\n",
              "\n",
              "  .colab-df-quickchart:hover {\n",
              "    background-color: var(--hover-bg-color);\n",
              "    box-shadow: 0 1px 2px rgba(60, 64, 67, 0.3), 0 1px 3px 1px rgba(60, 64, 67, 0.15);\n",
              "    fill: var(--button-hover-fill-color);\n",
              "  }\n",
              "\n",
              "  .colab-df-quickchart-complete:disabled,\n",
              "  .colab-df-quickchart-complete:disabled:hover {\n",
              "    background-color: var(--disabled-bg-color);\n",
              "    fill: var(--disabled-fill-color);\n",
              "    box-shadow: none;\n",
              "  }\n",
              "\n",
              "  .colab-df-spinner {\n",
              "    border: 2px solid var(--fill-color);\n",
              "    border-color: transparent;\n",
              "    border-bottom-color: var(--fill-color);\n",
              "    animation:\n",
              "      spin 1s steps(1) infinite;\n",
              "  }\n",
              "\n",
              "  @keyframes spin {\n",
              "    0% {\n",
              "      border-color: transparent;\n",
              "      border-bottom-color: var(--fill-color);\n",
              "      border-left-color: var(--fill-color);\n",
              "    }\n",
              "    20% {\n",
              "      border-color: transparent;\n",
              "      border-left-color: var(--fill-color);\n",
              "      border-top-color: var(--fill-color);\n",
              "    }\n",
              "    30% {\n",
              "      border-color: transparent;\n",
              "      border-left-color: var(--fill-color);\n",
              "      border-top-color: var(--fill-color);\n",
              "      border-right-color: var(--fill-color);\n",
              "    }\n",
              "    40% {\n",
              "      border-color: transparent;\n",
              "      border-right-color: var(--fill-color);\n",
              "      border-top-color: var(--fill-color);\n",
              "    }\n",
              "    60% {\n",
              "      border-color: transparent;\n",
              "      border-right-color: var(--fill-color);\n",
              "    }\n",
              "    80% {\n",
              "      border-color: transparent;\n",
              "      border-right-color: var(--fill-color);\n",
              "      border-bottom-color: var(--fill-color);\n",
              "    }\n",
              "    90% {\n",
              "      border-color: transparent;\n",
              "      border-bottom-color: var(--fill-color);\n",
              "    }\n",
              "  }\n",
              "</style>\n",
              "\n",
              "  <script>\n",
              "    async function quickchart(key) {\n",
              "      const quickchartButtonEl =\n",
              "        document.querySelector('#' + key + ' button');\n",
              "      quickchartButtonEl.disabled = true;  // To prevent multiple clicks.\n",
              "      quickchartButtonEl.classList.add('colab-df-spinner');\n",
              "      try {\n",
              "        const charts = await google.colab.kernel.invokeFunction(\n",
              "            'suggestCharts', [key], {});\n",
              "      } catch (error) {\n",
              "        console.error('Error during call to suggestCharts:', error);\n",
              "      }\n",
              "      quickchartButtonEl.classList.remove('colab-df-spinner');\n",
              "      quickchartButtonEl.classList.add('colab-df-quickchart-complete');\n",
              "    }\n",
              "    (() => {\n",
              "      let quickchartButtonEl =\n",
              "        document.querySelector('#df-973972a4-1741-4367-907d-0848c88ce06f button');\n",
              "      quickchartButtonEl.style.display =\n",
              "        google.colab.kernel.accessAllowed ? 'block' : 'none';\n",
              "    })();\n",
              "  </script>\n",
              "</div>\n",
              "\n",
              "    </div>\n",
              "  </div>\n"
            ],
            "application/vnd.google.colaboratory.intrinsic+json": {
              "type": "dataframe",
              "summary": "{\n  \"name\": \"df\",\n  \"rows\": 5,\n  \"fields\": [\n    {\n      \"column\": \"title\",\n      \"properties\": {\n        \"dtype\": \"string\",\n        \"num_unique_values\": 5,\n        \"samples\": [\n          \"Russians steal research on Trump in hack of U.S. Democratic Party\\n\\n\\nWASHINGTON (Reuters) - Hackers believed to be working for the Russian government broke into the Democratic National Committee\\u2019s computer network, spied on internal communications and accessed research on presumptive Republican presidential nominee Donald Trump, the committee and security experts said on Tuesday. Two separate groups entered the DNC\\u2019s system, and one read email and chat communications for nearly a year before being detected, according to the committee and CrowdStrike, the cyber firm that helped clean up the breach. Russian spies also targeted the networks of Trump and Democratic presidential candidate Hillary Clinton, as well as the computers of some Republican political action committees, the Washington Post quoted U.S. officials as saying, although details were not available. A Clinton campaign official said there was no evidence the campaign\\u2019s information systems had been hacked. A Russian government spokesman denied involvement in the breach. \\u201cI completely rule out a possibility that the (Russian) government or the government bodies have been involved in this,\\u201d Dmitry Peskov, a Kremlin spokesman, told Reuters in Moscow. The intrusion is emblematic of the sophistication of Russian hackers, who intelligence officials have long viewed as the most talented of U.S. adversaries in cyberspace. The Democratic Party had been aware of efforts to hack Trump material for two months, and U.S. intelligence agencies were involved in efforts to find out who was behind the hacking, a source familiar with Trump opposition research said. The source said Democratic Party operatives believed the hacking was conducted by the Russian government. The research includes material on Trump\\u2019s business efforts in Azerbaijan, Georgia, Serbia and Russia, according to information made available to Reuters.         Cyber attacks against political candidates and organizations are common worldwide. U.S. National Intelligence Director James Clapper said last month he was aware of attempted hacks on campaigns and related groups and he expected to see more as the Nov. 8 presidential election nears. U.S. Representative Jim Langevin, a Democrat and co-founder of the congressional cybersecurity caucus, said it was \\u201cdisconcerting\\u201d that independent groups penetrated the DNC and that one was able \\u201cto stay embedded for nearly a year.\\u201d But the groups are extremely sophisticated, Langevin said, and have previously been implicated on attacks at the White House, the State Department and the German Bundestag, as well as a number of private companies. The DNC contacted CrowdStrike in May and within 24 hours it began investigating unusual activity on the group\\u2019s network, said Dmitri Alperovitch, the company\\u2019s co-founder and chief technology officer. It identified two hacking groups and both were kicked out this weekend, he said. The first, which CrowdStrike named Cozy Bear, entered the DNC\\u2019s systems last summer, according to the firm. It primarily monitored email and chat conversations and may be working for Russia\\u2019s Federal Security Service, or FSB, Alperovitch said.  Russian President Vladimir Putin once ran the FSB. The second group, nicknamed Fancy Bear, is probably working on behalf of Russia\\u2019s military, Alperovitch said. It gained entry in late April and \\u201cwent straight to the oppo research ... on Donald Trump and exfiltrated some of it,\\u201d he said. Alperovitch said both groups were among \\u201cthe best threat actors that we\\u2019ve ever encountered\\u201d but they did not appear to be working together. He was not sure how the intrusions occurred but suspected the hackers may have leveraged \\u201cspearphishing\\u201d emails to trick DNC employees into downloading malicious code onto their network. \\u201cWhen we discovered the intrusion, we treated this like the serious incident it is,\\u201d Rep. Debbie Wasserman Schultz, chairwoman of the DNC, said in a statement. \\u201cOur team moved as quickly as possible to kick out the intruders and secure our network.\\u201d Trump\\u2019s interest in Russia goes back to the 1980s, with a 1990 Vanity Fair article citing news program appearances in which Trump offered his own services as a negotiator with Russia.  Information made available to Reuters indicates Trump tried on at least three occasions - in 2004, 2008 and 2013 - to get involved in business deals in Russia. In 2013, he and an Azerbaijani-Russian oligarch, Aras Agalarov, jointly put on a Miss Universe competition in Moscow, and Trump was photographed with Agalarov\\u2019s wife, son and daughter. The last two U.S. presidential cycles in 2008 and 2012 witnessed a barrage of cyber attacks from a range of adversaries targeting President Barack Obama\\u2019s campaign and the campaigns of his Republican foes. U.S. intelligence officials have said many previous assaults were linked to Chinese hackers. \",\n          \"Trump tussle gives unpopular Mexican leader much-needed shot in arm\\n\\n\\nMEXICO CITY (Reuters) - Donald Trump\\u2019s combative style has buffeted Mexico\\u2019s president for months, but deeply unpopular Enrique Pena Nieto may end up thanking the new U.S. president for prompting offended Mexicans to rally behind their leader.  From billionaire business magnate Carlos Slim to political opponents, there has been a groundswell of support for Pena Nieto, who has cut a lonely figure in months of bruising encounters with Trump. Often referred to by his initials EPN, Pena Nieto is laboring under the worst approval ratings of any Mexican president in decades due to discontent over corruption, gang violence, sluggish growth and a jump in fuel prices.     Trump\\u2019s threats to scrap the NAFTA trade deal with Mexico and build a border wall have caused anger and left Mexicans feeling fearful for the future. His challenge to Pena Nieto on Thursday - saying he should skip a planned summit between the two leaders if Mexico wasn\\u2019t willing to pay for the wall - was the final straw. Pena Nieto replied a couple of hours later that he had canceled his meeting with Trump, one of the president\\u2019s biggest ever hits on Twitter, getting more \\u201clikes\\u201d than when he personally broke news of the capture of notorious drug lord Joaquin \\u201cEl Chapo\\u201d Guzman in January of last year. \\u201cBravo EPN!,\\u201d cheered former President Vicente Fox, who had initially condemned Pena Nieto for inviting Trump to Mexico for talks last August, and who has waged a colorful and expletive-ridden campaign against the Republican on Twitter. Pena Nieto and Trump talked for about an hour by phone on Friday, pledging to work out their differences and agreeing not to speak about the wall in public for now. Meanwhile, calls for unity grew in Mexico, led by Slim, a normally media-shy 76-year-old who gave a 90-minute news conference in support of the government on Friday. \\u201cThis is the most surprising example of national unity I\\u2019ve seen in my life,\\u201d said Slim, who spent several years in the past decade as the world\\u2019s richest man. \\u201cWe have to back the president of Mexico so he can defend our national interests.\\u201d Senior opposition leaders also urged a common front. \\u201cIt\\u2019s time to show unity and our commitment to Mexico,\\u201d Alejandra Barrales, head of the center-left Party of the Democratic Revolution (PRD), said on Twitter. Pena Nieto\\u2019s credibility has been battered by a widespread public perception that he has failed to battle corruption and indeed even encouraged it since a conflict-of-interest row embroiled him, his wife and a top minister in late 2014. Some opposition critics fear the government will try to use Trump as a screen to distract from its failings. However, two senior officials told Reuters they hoped Pena Nieto would seize the moment to act quickly and decisively to improve his image. Expressions of dismay at Trump\\u2019s behavior towards Mexico have almost become a national pastime, and talk of boycotts against U.S. companies is gathering steam on social media. Slim, when asked about boycotting at his news conference, said it wasn\\u2019t a good idea to turn on U.S. companies, which are creating jobs in Mexico. Some foreign companies voiced support for Mexico too. \\u201cI feel Mexico is being subjected to terror at the moment,\\u201d said Andreas Schindler, co-owner of German fruit wholesaler Don Limon\\u2019s parent Pilz Schindler, by phone from Hamburg. \\u201cWe\\u2019re right behind Mexico.\\u201d \",\n          \" WATCH: Giuliani Demands That Democrats Apologize For Trump\\u2019s Racist Birtherism\\n\\n\\nYou know, because in fantasyland Republicans never questioned the citizenship of America s first black president.But that s exactly what they did for years and Donald Trump led the charge by going on or calling into Fox News every chance he could in order to demand President Obama s birth certificate.It was Trump who constantly claimed President Obama was born in Kenya even though Hawaii newspapers from the time announce Obama s birth.Trump and his birther fans were finally utterly humiliated when President Obama released his birth certificate to the public.And now that birtherism is coming back to bite Trump on the ass as he tries to convince black voters that he isn t a racist.Part of the reason why black voters reject Trump is because he questioned the citizenship of President Obama simply because he is black. But Trump wants everyone to pretend he didn t say any nasty things about President Obama and Trump pawn Rudy Giuliani is demanding that Democrats apologize for Trump s birtherism.Giuliani, who has taken to forgetting about 9/11 recently, appeared on CNN with Jake Tapper on Sunday and was grilled because Trump has not apologized for his birtherism. Many African-Americans say they are still troubled by Mr. Trump having suggested over and over, falsely, that the first African-American president was born in Africa and thus ineligible to be president  Tapper began.Giuliani immediately blamed Hillary Clinton for starting the birther conspiracy, but Tapper quickly fact-checked Giuliani, which forced him to blame Clinton s campaign instead.Giuliani then attempted to portray Trump as a hero for  resolving  the conspiracy, claiming that black people  have a faulty memory. He literally thinks black people should thank Trump for being a birther.But Tapper was quick to remind Giuliani that it was President Obama who resolved the conspiracy by releasing his birth certificate in 2011 while Trump was still pushing his birtherism four years later in February 2015 when he told CPAC that he thinks the birth certificate is fake. So apparently Trump thinks it hasn t been resolved, thus blowing Giuliani s claim out of the water. Should he just apologize for this if he really wants to reach out to minority voters?  Tapper asked.Giuliani replied by demanding that Democrats apologize for calling Trump s birtherism racist and went on to bash President Obama. If everybody apologized for all the things they said in politics, all we would be doing on television shows is apologizing. Maybe all the Democrats should apologize for calling Donald Trump a racist and calling him all kinds of terrible names and it gets a little silly. Food stamps have gone up two and a half times under Barack Obama,  he added.  He should be ashamed of himself. Jobs should have gone up two and a half times. My only point is that many African-Americans are still mad about Donald Trump having tried to invalidate Barack Obama by claiming he was born in Africa,  Tapper responded before giving up and moving on.Here s the video via YouTube:Giuliani seems to be forgetting that the recession that began under George W. Bush and the Republicans in 2008 caused more families to need food stamps in the first place, which is why the number of people on food stamps has gone up. Also, President Obama has set a record for the most consecutive months of jobs created and is actually one of the best job-creating presidents over the last 40 years.Once again, Giuliani gets caught talking out of his ass and he must be truly desperate if he is resorting to demanding an apology from Democrats for Trump s racism.Featured Image: Screenshot\"\n        ],\n        \"semantic_type\": \"\",\n        \"description\": \"\"\n      }\n    },\n    {\n      \"column\": \"label\",\n      \"properties\": {\n        \"dtype\": \"number\",\n        \"std\": 0,\n        \"min\": 0,\n        \"max\": 1,\n        \"num_unique_values\": 2,\n        \"samples\": [\n          0,\n          1\n        ],\n        \"semantic_type\": \"\",\n        \"description\": \"\"\n      }\n    }\n  ]\n}"
            }
          },
          "metadata": {},
          "execution_count": 33
        }
      ]
    },
    {
      "cell_type": "code",
      "source": [
        "y = df[['label']]\n",
        "df = df.drop(['label'], axis=1)\n",
        "ros = RandomOverSampler(random_state=83)\n",
        "df, y_resampled = ros.fit_resample(df, y)\n",
        "del y\n",
        "df['label'] = y_resampled\n",
        "print(df.shape)\n",
        "del y_resampled\n",
        "gc.collect()\n"
      ],
      "metadata": {
        "colab": {
          "base_uri": "https://localhost:8080/"
        },
        "id": "tJeYVUhsADzt",
        "outputId": "b11d6ec3-c821-465e-aa8c-97606bb7d9f3"
      },
      "execution_count": null,
      "outputs": [
        {
          "output_type": "stream",
          "name": "stdout",
          "text": [
            "(69582, 2)\n"
          ]
        },
        {
          "output_type": "execute_result",
          "data": {
            "text/plain": [
              "66"
            ]
          },
          "metadata": {},
          "execution_count": 34
        }
      ]
    },
    {
      "cell_type": "code",
      "source": [
        "df = df.sample(frac=1.0) # shuffle the data before train-test split\n",
        "train_idx = int(df.shape[0]*train_fraction)\n",
        "df_train = df[:train_idx]\n",
        "df_test = df[train_idx:]\n",
        "print(df_train['label'].mean(), df_test['label'].mean())\n"
      ],
      "metadata": {
        "colab": {
          "base_uri": "https://localhost:8080/"
        },
        "id": "ASpjufeeAFi6",
        "outputId": "62f61a1a-ed42-49fd-d56f-835c8cb5c99c"
      },
      "execution_count": null,
      "outputs": [
        {
          "output_type": "stream",
          "name": "stdout",
          "text": [
            "0.5002245576214857 0.4991018179205288\n"
          ]
        }
      ]
    },
    {
      "cell_type": "code",
      "source": [
        "del df\n",
        "gc.collect()\n"
      ],
      "metadata": {
        "colab": {
          "base_uri": "https://localhost:8080/"
        },
        "id": "GUg81yT5AXWz",
        "outputId": "981da935-a852-4db4-9337-edf87ae2d26a"
      },
      "execution_count": null,
      "outputs": [
        {
          "output_type": "execute_result",
          "data": {
            "text/plain": [
              "0"
            ]
          },
          "metadata": {},
          "execution_count": 36
        }
      ]
    },
    {
      "cell_type": "code",
      "source": [
        "df_train = Dataset.from_pandas(df_train)\n",
        "df_test = Dataset.from_pandas(df_test)\n"
      ],
      "metadata": {
        "id": "CGxzY5JUAZqY"
      },
      "execution_count": null,
      "outputs": []
    },
    {
      "cell_type": "code",
      "source": [
        "tokenizer = AutoTokenizer.from_pretrained(BERT_MODEL, use_fast=True, low_cpu_mem_usage=False)\n"
      ],
      "metadata": {
        "id": "1FPogPNWAbPw"
      },
      "execution_count": null,
      "outputs": []
    },
    {
      "cell_type": "code",
      "source": [
        "def preprocess_function(examples):\n",
        "    return tokenizer(examples[\"title\"], truncation=True)\n",
        "\n",
        "df_train = df_train.map(preprocess_function, batched=True)\n",
        "df_test = df_test.map(preprocess_function, batched=True)\n"
      ],
      "metadata": {
        "colab": {
          "base_uri": "https://localhost:8080/",
          "height": 81,
          "referenced_widgets": [
            "6588735842c945d6ad8417bad310bd9a",
            "42d5a771c8df4370bc0dd60323bc66af",
            "b412276556014b26be3eeabc1073eab5",
            "508ca024f2c042b3ae9df790e75ea0b5",
            "41b017c4b475489e9b092c2a67e23b41",
            "7087e3241d8e4be7b637ac01b7698dc1",
            "30df2193f2b245ae9b4d50a51387092b",
            "9fe877834ba248f8b302f4a493aa2187",
            "debda3f41ac44b278d8fdbf1d03db1a9",
            "4c2b5dc0973a4ec3a79fed6076c4d78c",
            "3781d888fbbb429587fa745b3a29c6ba",
            "3bfbb953c2844ca390407fe22825fd65",
            "02bd32de5c5d4cc6920fcd5aa17887ea",
            "308d10f6b2594404aafab7ee1fba5ad2",
            "fbdbfe820f454a03ba3cb78b71497b69",
            "fa3f00e2368145af9c336c99c0162b2d",
            "50b2674e61fe48afa11f112c9e3cffd6",
            "c4c8956db2e746a2832812e44864bea6",
            "065791a6de5e40cd93db2c2ee74ea9a8",
            "e35d20fe26e645009c39bd529f8b6079",
            "41f7f7597d44437fb170998a33058d0a",
            "b024a9ae9a944350b1cf72380129592c"
          ]
        },
        "id": "RHEU7kzLAckr",
        "outputId": "eb592cea-dbf1-4290-809e-e41fa795f430"
      },
      "execution_count": null,
      "outputs": [
        {
          "output_type": "display_data",
          "data": {
            "text/plain": [
              "  0%|          | 0/56 [00:00<?, ?it/s]"
            ],
            "application/vnd.jupyter.widget-view+json": {
              "version_major": 2,
              "version_minor": 0,
              "model_id": "6588735842c945d6ad8417bad310bd9a"
            }
          },
          "metadata": {}
        },
        {
          "output_type": "display_data",
          "data": {
            "text/plain": [
              "  0%|          | 0/14 [00:00<?, ?it/s]"
            ],
            "application/vnd.jupyter.widget-view+json": {
              "version_major": 2,
              "version_minor": 0,
              "model_id": "3bfbb953c2844ca390407fe22825fd65"
            }
          },
          "metadata": {}
        }
      ]
    },
    {
      "cell_type": "code",
      "source": [
        "df_train.remove_column_(\"title\")\n",
        "df_test.remove_column_(\"title\")\n"
      ],
      "metadata": {
        "id": "0saPxcRWAeLT"
      },
      "execution_count": null,
      "outputs": []
    },
    {
      "cell_type": "code",
      "source": [
        "df_train"
      ],
      "metadata": {
        "colab": {
          "base_uri": "https://localhost:8080/"
        },
        "id": "EbW6mmWjAf6o",
        "outputId": "a6fc7e82-5aa6-49f2-ae39-fd2cab24ec5c"
      },
      "execution_count": null,
      "outputs": [
        {
          "output_type": "execute_result",
          "data": {
            "text/plain": [
              "Dataset(features: {'label': Value(dtype='int64', id=None), '__index_level_0__': Value(dtype='int64', id=None), 'input_ids': Sequence(feature=Value(dtype='int64', id=None), length=-1, id=None), 'token_type_ids': Sequence(feature=Value(dtype='int64', id=None), length=-1, id=None), 'attention_mask': Sequence(feature=Value(dtype='int64', id=None), length=-1, id=None)}, num_rows: 55665)"
            ]
          },
          "metadata": {},
          "execution_count": 41
        }
      ]
    },
    {
      "cell_type": "code",
      "source": [
        "df_test"
      ],
      "metadata": {
        "colab": {
          "base_uri": "https://localhost:8080/"
        },
        "id": "L9t73QocAheu",
        "outputId": "c298b7e5-c996-49b1-b1dc-d98ad56f09f8"
      },
      "execution_count": null,
      "outputs": [
        {
          "output_type": "execute_result",
          "data": {
            "text/plain": [
              "Dataset(features: {'label': Value(dtype='int64', id=None), '__index_level_0__': Value(dtype='int64', id=None), 'input_ids': Sequence(feature=Value(dtype='int64', id=None), length=-1, id=None), 'token_type_ids': Sequence(feature=Value(dtype='int64', id=None), length=-1, id=None), 'attention_mask': Sequence(feature=Value(dtype='int64', id=None), length=-1, id=None)}, num_rows: 13917)"
            ]
          },
          "metadata": {},
          "execution_count": 42
        }
      ]
    },
    {
      "cell_type": "code",
      "source": [
        "data_collator = DataCollatorWithPadding(tokenizer=tokenizer)\n"
      ],
      "metadata": {
        "id": "blF6j6MmAjxr"
      },
      "execution_count": null,
      "outputs": []
    },
    {
      "cell_type": "code",
      "source": [
        "tokenizer.decode(df_train[0]['input_ids'])\n"
      ],
      "metadata": {
        "colab": {
          "base_uri": "https://localhost:8080/",
          "height": 140
        },
        "id": "Ab2ZD7grAmMh",
        "outputId": "0eb0fc17-3dbe-46eb-fb16-a678f7785200"
      },
      "execution_count": null,
      "outputs": [
        {
          "output_type": "execute_result",
          "data": {
            "text/plain": [
              "'[CLS] Green groups sue for access to U. S. monument documents : lawsuit NEW YORK ( Reuters ) - The Sierra Club and five other U. S. environmental groups sued a White House advisory council and the U. S. Interior Department, saying they were illegally withholding information about a review of public land designations, according to court papers. In the lawsuit filed on Thursday, the groups asked the court to compel the Interior Department and the White House Council on Environmental Quality to provide documents on the department ’ s review of a group of national monuments, where industrial activities like mining and oil drilling are prohibited. Interior put more than a dozen monuments under review earlier this year. Several news outlets reported the department had determined which of those it would shrink, but it has not released a formal report. U. S. President Donald Trump, meanwhile, pledged last week to reduce the size of two monuments in Utah, according to U. S. Senator Orrin Hatch. Interior Department and White House officials referred questions about the lawsuit to the U. S. Justice Department. A Justice Department spokeswoman did not immediately respond to requests for comment. The environmental groups, which also include the Natural Resources Defense Council and the Wilderness Society, said Interior and the White House council were not meeting appropriate deadlines under the Freedom of Information Act. That law requires government agencies to release their documents to the public upon request and lays out a timeline for doing so. “ By failing to provide the requested records, Defendants are actively impeding Plaintiffs ’ access to government information and blocking Plaintiffs ’ ability to carry out their organizational missions, ” the lawsuit said. [SEP]'"
            ],
            "application/vnd.google.colaboratory.intrinsic+json": {
              "type": "string"
            }
          },
          "metadata": {},
          "execution_count": 44
        }
      ]
    },
    {
      "cell_type": "code",
      "source": [
        "model = AutoModelForSequenceClassification.from_pretrained(\n",
        "    BERT_MODEL, num_labels=2,\n",
        "    output_attentions = False, # Whether the model returns attentions weights.\n",
        "    output_hidden_states = False # Whether the model returns all hidden-states.\n",
        ")\n",
        "\n",
        "model.config.id2label = {0: 'FAKE', 1: 'REAL'}\n"
      ],
      "metadata": {
        "colab": {
          "base_uri": "https://localhost:8080/"
        },
        "id": "KzCKBe7QAn-W",
        "outputId": "12415df8-be8b-477e-a76a-365ec76ee7c7"
      },
      "execution_count": null,
      "outputs": [
        {
          "output_type": "stream",
          "name": "stderr",
          "text": [
            "Some weights of BertForSequenceClassification were not initialized from the model checkpoint at bert-base-cased and are newly initialized: ['classifier.bias', 'classifier.weight']\n",
            "You should probably TRAIN this model on a down-stream task to be able to use it for predictions and inference.\n"
          ]
        }
      ]
    },
    {
      "cell_type": "code",
      "source": [
        "print(model.num_parameters(only_trainable=True)/1e6)\n"
      ],
      "metadata": {
        "colab": {
          "base_uri": "https://localhost:8080/"
        },
        "id": "zgn-mpLqAppx",
        "outputId": "1592c426-e0b4-4036-e010-8506b2ed5ef3"
      },
      "execution_count": null,
      "outputs": [
        {
          "output_type": "stream",
          "name": "stdout",
          "text": [
            "108.31181\n"
          ]
        }
      ]
    },
    {
      "cell_type": "code",
      "source": [
        "from datasets import load_metric\n",
        "\n",
        "metric = load_metric(\"accuracy\")\n",
        "\n",
        "def compute_metrics(eval_pred):\n",
        "    logits, labels = eval_pred\n",
        "    predictions = np.argmax(logits, axis=-1)\n",
        "    return metric.compute(predictions=predictions, references=labels)\n"
      ],
      "metadata": {
        "id": "zeyGuGXoAruR"
      },
      "execution_count": null,
      "outputs": []
    },
    {
      "cell_type": "code",
      "source": [
        "training_args = TrainingArguments(\n",
        "    output_dir=output_dir,\n",
        "    logging_dir='./logs',\n",
        "    num_train_epochs=num_train_epochs,\n",
        "    per_device_train_batch_size=train_batch_size,\n",
        "    per_device_eval_batch_size=eval_batch_size,\n",
        "    logging_strategy='steps',\n",
        "    logging_first_step=True,\n",
        "    load_best_model_at_end=True,\n",
        "    logging_steps=1,\n",
        "    evaluation_strategy='epoch',\n",
        "    warmup_steps=warmup_steps,\n",
        "    weight_decay=weight_decay,\n",
        "    eval_steps=1,\n",
        "    save_strategy='epoch',\n",
        "    save_total_limit=1, # save fewer checkpoints to limit used space\n",
        "    report_to=\"mlflow\",  # log to mlflow\n",
        ")\n",
        "\n",
        "# Define the trainer:\n",
        "# instantiate the trainer class and check for available devices\n",
        "trainer = Trainer(\n",
        "    model=model,\n",
        "    args=training_args,\n",
        "    compute_metrics=compute_metrics,\n",
        "    train_dataset=df_train,\n",
        "    eval_dataset=df_test,\n",
        "    data_collator=data_collator\n",
        ")\n"
      ],
      "metadata": {
        "id": "WWDKHD3sAtDQ"
      },
      "execution_count": null,
      "outputs": []
    },
    {
      "cell_type": "code",
      "source": [
        "trainer.evaluate()\n"
      ],
      "metadata": {
        "colab": {
          "base_uri": "https://localhost:8080/",
          "height": 141
        },
        "id": "ri68nqSFAvBM",
        "outputId": "a5a238d1-9411-4b3f-faa8-fc0278ac35e8"
      },
      "execution_count": null,
      "outputs": [
        {
          "output_type": "display_data",
          "data": {
            "text/plain": [
              "<IPython.core.display.HTML object>"
            ],
            "text/html": [
              "\n",
              "    <div>\n",
              "      \n",
              "      <progress value='218' max='218' style='width:300px; height:20px; vertical-align: middle;'></progress>\n",
              "      [218/218 06:58]\n",
              "    </div>\n",
              "    "
            ]
          },
          "metadata": {}
        },
        {
          "output_type": "execute_result",
          "data": {
            "text/plain": [
              "{'eval_loss': 0.7437301278114319,\n",
              " 'eval_model_preparation_time': 0.0074,\n",
              " 'eval_accuracy': 0.5008981820794711,\n",
              " 'eval_runtime': 421.0811,\n",
              " 'eval_samples_per_second': 33.051,\n",
              " 'eval_steps_per_second': 0.518}"
            ]
          },
          "metadata": {},
          "execution_count": 49
        }
      ]
    },
    {
      "cell_type": "code",
      "source": [
        "trainer.train()"
      ],
      "metadata": {
        "colab": {
          "base_uri": "https://localhost:8080/",
          "height": 230
        },
        "id": "40kX6Zm8Awqw",
        "outputId": "4814843c-ac99-4c80-99cd-314ff982b051"
      },
      "execution_count": null,
      "outputs": [
        {
          "output_type": "stream",
          "name": "stderr",
          "text": [
            "2024/11/29 08:49:43 ERROR mlflow.utils.async_logging.async_logging_queue: Run Id 28fbbf08d4374b25bde0301bb4aea996: Failed to log run data: Exception: Changing param values is not allowed. Param with key='per_device_train_batch_size' was already logged with value='8' for run ID='28fbbf08d4374b25bde0301bb4aea996'. Attempted logging new value '16'.\n"
          ]
        },
        {
          "output_type": "display_data",
          "data": {
            "text/plain": [
              "<IPython.core.display.HTML object>"
            ],
            "text/html": [
              "\n",
              "    <div>\n",
              "      \n",
              "      <progress value='6960' max='6960' style='width:300px; height:20px; vertical-align: middle;'></progress>\n",
              "      [6960/6960 3:10:12, Epoch 2/2]\n",
              "    </div>\n",
              "    <table border=\"1\" class=\"dataframe\">\n",
              "  <thead>\n",
              " <tr style=\"text-align: left;\">\n",
              "      <th>Epoch</th>\n",
              "      <th>Training Loss</th>\n",
              "      <th>Validation Loss</th>\n",
              "      <th>Model Preparation Time</th>\n",
              "      <th>Accuracy</th>\n",
              "    </tr>\n",
              "  </thead>\n",
              "  <tbody>\n",
              "    <tr>\n",
              "      <td>1</td>\n",
              "      <td>0.000100</td>\n",
              "      <td>0.016590</td>\n",
              "      <td>0.007400</td>\n",
              "      <td>0.995904</td>\n",
              "    </tr>\n",
              "    <tr>\n",
              "      <td>2</td>\n",
              "      <td>0.000000</td>\n",
              "      <td>0.014023</td>\n",
              "      <td>0.007400</td>\n",
              "      <td>0.996838</td>\n",
              "    </tr>\n",
              "  </tbody>\n",
              "</table><p>"
            ]
          },
          "metadata": {}
        },
        {
          "output_type": "display_data",
          "data": {
            "text/plain": [
              "<IPython.core.display.HTML object>"
            ],
            "text/html": [
              "\n",
              "    <div>\n",
              "      \n",
              "      <progress value='436' max='218' style='width:300px; height:20px; vertical-align: middle;'></progress>\n",
              "      [218/218 1:41:47]\n",
              "    </div>\n",
              "    "
            ]
          },
          "metadata": {}
        },
        {
          "output_type": "execute_result",
          "data": {
            "text/plain": [
              "TrainOutput(global_step=6960, training_loss=0.030700017334103366, metrics={'train_runtime': 11414.1758, 'train_samples_per_second': 9.754, 'train_steps_per_second': 0.61, 'total_flos': 2.929206540435864e+16, 'train_loss': 0.030700017334103366, 'epoch': 2.0})"
            ]
          },
          "metadata": {},
          "execution_count": 50
        }
      ]
    },
    {
      "cell_type": "code",
      "source": [
        "trainer.evaluate()\n"
      ],
      "metadata": {
        "colab": {
          "base_uri": "https://localhost:8080/",
          "height": 158
        },
        "id": "mlB_N_2aAyRp",
        "outputId": "c185546b-3ccc-406f-87d4-a7e3a45c2072"
      },
      "execution_count": null,
      "outputs": [
        {
          "output_type": "display_data",
          "data": {
            "text/plain": [
              "<IPython.core.display.HTML object>"
            ],
            "text/html": [
              "\n",
              "    <div>\n",
              "      \n",
              "      <progress value='218' max='218' style='width:300px; height:20px; vertical-align: middle;'></progress>\n",
              "      [218/218 06:57]\n",
              "    </div>\n",
              "    "
            ]
          },
          "metadata": {}
        },
        {
          "output_type": "execute_result",
          "data": {
            "text/plain": [
              "{'eval_loss': 0.014022902585566044,\n",
              " 'eval_model_preparation_time': 0.0074,\n",
              " 'eval_accuracy': 0.9968383990802615,\n",
              " 'eval_runtime': 419.4044,\n",
              " 'eval_samples_per_second': 33.183,\n",
              " 'eval_steps_per_second': 0.52,\n",
              " 'epoch': 2.0}"
            ]
          },
          "metadata": {},
          "execution_count": 51
        }
      ]
    },
    {
      "cell_type": "code",
      "source": [
        "output_dir = \"/content/drive/My Drive/fake-news-classifier\"  # Change this to your desired path\n",
        "trainer.save_model(output_dir)\n"
      ],
      "metadata": {
        "id": "CB5_sHI4BNNK"
      },
      "execution_count": null,
      "outputs": []
    },
    {
      "cell_type": "code",
      "source": [
        "tokenizer.save_vocabulary(save_directory=f\"{output_dir}\")"
      ],
      "metadata": {
        "colab": {
          "base_uri": "https://localhost:8080/"
        },
        "id": "1zq9f-SuDfZ8",
        "outputId": "e816afba-50cb-4b99-fd48-a17ac4911b83"
      },
      "execution_count": null,
      "outputs": [
        {
          "output_type": "execute_result",
          "data": {
            "text/plain": [
              "('/content/drive/MyDrive/fake-news-classifier/vocab.txt',)"
            ]
          },
          "metadata": {},
          "execution_count": 54
        }
      ]
    },
    {
      "cell_type": "markdown",
      "source": [
        "Testing model"
      ],
      "metadata": {
        "id": "f9Gw28E322p5"
      }
    },
    {
      "cell_type": "code",
      "source": [
        "from transformers import AutoModelForSequenceClassification, AutoTokenizer\n",
        "\n",
        "output_dir = \"/content/drive/My Drive/fake-news-classifier\"\n",
        "model = AutoModelForSequenceClassification.from_pretrained(output_dir)\n",
        "tokenizer = AutoTokenizer.from_pretrained(output_dir)"
      ],
      "metadata": {
        "id": "1Xf9BedNE0J9"
      },
      "execution_count": null,
      "outputs": []
    },
    {
      "cell_type": "code",
      "source": [
        "import torch\n",
        "texts = [\"Donald Trump Sends Out Embarrassing New Year’s Eve Message; This is Disturbing\",     # Fake\n",
        "          \"WATCH: George W. Bush Calls Out Trump For Supporting White Supremacy\",               # Fake\n",
        "          \"U.S. lawmakers question businessman at 2016 Trump Tower meeting: sources\",           # True\n",
        "           \"Trump administration issues new rules on U.S. visa waivers\"                          # True\n",
        "         ]\n",
        "\n",
        "max_length = 512  # You can set this value depending on the model you're using\n",
        "\n",
        "# Tokenize the input text with padding and truncation\n",
        "inputs = tokenizer(texts, padding=True, truncation=True, max_length=max_length, return_tensors=\"pt\")\n",
        "\n",
        "# Perform prediction\n",
        "with torch.no_grad():\n",
        "    outputs = model(**inputs)\n",
        "    logits = outputs.logits\n",
        "\n",
        "# Convert logits to probabilities\n",
        "probabilities = torch.softmax(logits, dim=-1)\n",
        "\n",
        "# Get predicted classes\n",
        "predicted_classes = torch.argmax(probabilities, dim=-1)\n",
        "\n",
        "print(predicted_classes)\n"
      ],
      "metadata": {
        "colab": {
          "base_uri": "https://localhost:8080/"
        },
        "id": "n9UICaFd1sKg",
        "outputId": "7113d6c0-c7b0-4fa3-8875-37743fffa8ce"
      },
      "execution_count": null,
      "outputs": [
        {
          "output_type": "stream",
          "name": "stdout",
          "text": [
            "tensor([1, 1, 0, 0])\n"
          ]
        }
      ]
    },
    {
      "cell_type": "code",
      "source": [
        "# Assuming 0 = True, 1 = Fake\n",
        "class_labels = {0: 'True', 1: 'Fake'}\n",
        "\n",
        "# Map predicted class to label\n",
        "predicted_labels = [class_labels[label.item()] for label in predicted_classes]\n",
        "print(predicted_labels)\n"
      ],
      "metadata": {
        "colab": {
          "base_uri": "https://localhost:8080/"
        },
        "id": "pEEvkHX9160g",
        "outputId": "e05859da-d812-47fc-dc12-d833d97afee1"
      },
      "execution_count": null,
      "outputs": [
        {
          "output_type": "stream",
          "name": "stdout",
          "text": [
            "['Fake', 'Fake', 'True', 'True']\n"
          ]
        }
      ]
    },
    {
      "cell_type": "code",
      "source": [],
      "metadata": {
        "id": "2wAVxUiJ2Mqf"
      },
      "execution_count": null,
      "outputs": []
    }
  ]
}